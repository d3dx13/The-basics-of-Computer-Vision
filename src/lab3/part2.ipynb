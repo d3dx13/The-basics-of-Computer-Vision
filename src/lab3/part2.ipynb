{
 "cells": [
  {
   "cell_type": "markdown",
   "metadata": {
    "collapsed": true,
    "pycharm": {
     "name": "#%% md\n"
    }
   },
   "source": [
    "### 4 Высокочастотная фильтрация\n",
    "\n",
    "Высокочастотные пространственные фильтры усиливают высокочастотные компоненты \n",
    "(области с сильным изменением интенсивностей) и ослабляют низкочастотные составляющие изображения. \n",
    "Используются для выделения перепадов интенсивностей и определения границ (контуров) на изображениях"
   ]
  },
  {
   "cell_type": "markdown",
   "source": [
    "### 4.1 Фильтр Робертса"
   ],
   "metadata": {
    "collapsed": false
   }
  },
  {
   "cell_type": "code",
   "execution_count": 695,
   "outputs": [],
   "source": [
    "import cv2\n",
    "import skimage\n",
    "import skimage.filters\n",
    "import skimage.restoration\n",
    "import scipy\n",
    "import scipy.ndimage\n",
    "import scipy.signal\n",
    "import numpy as np\n",
    "from matplotlib import pyplot as plt\n",
    "from matplotlib.pyplot import figure\n",
    "from numba import njit, jit\n",
    "from math import *\n",
    "import warnings\n",
    "warnings.filterwarnings('ignore')\n",
    "export_parallel = True\n",
    "use_graph = False"
   ],
   "metadata": {
    "collapsed": false,
    "pycharm": {
     "name": "#%% \n",
     "is_executing": false
    }
   }
  },
  {
   "cell_type": "markdown",
   "source": [
    "Предположим, мы пишем алгоритм компьютерного зрения для игры в Cyberpunk 2077.\n",
    "\n",
    "Попробуем сделать дорожную разметку читаемой для водителя"
   ],
   "metadata": {
    "collapsed": false,
    "pycharm": {
     "name": "#%% md\n",
     "is_executing": false
    }
   }
  },
  {
   "cell_type": "code",
   "execution_count": 696,
   "outputs": [],
   "source": [
    "# Новое изображение для обнаружения линий.\n",
    "image = cv2.cvtColor(cv2.imread('data/road.png'), cv2.COLOR_BGR2GRAY)\n",
    "image = cv2.GaussianBlur(image, (5, 5), 0)\n",
    "if use_graph:\n",
    "    figure(figsize=(32, 16), dpi=80)\n",
    "    plt.imshow(cv2.cvtColor(image, cv2.COLOR_GRAY2RGB))\n",
    "    plt.xticks([]),plt.yticks([])\n",
    "    plt.show()"
   ],
   "metadata": {
    "collapsed": false,
    "pycharm": {
     "name": "#%% \n",
     "is_executing": false
    }
   }
  },
  {
   "cell_type": "code",
   "execution_count": 697,
   "outputs": [],
   "source": [
    "# Оператор Робертса вариант 1\n",
    "kernel_Roberts_x = np.array([\n",
    "    [1, -1],\n",
    "    [0, 0]\n",
    "    ])\n",
    "kernel_Roberts_y = np.array([\n",
    "    [1, 0],\n",
    "    [-1, 0]\n",
    "    ])\n",
    "kernel_Ku = 4.0\n",
    "\n",
    "image_filtered = kernel_Ku * np.sqrt(\n",
    "    np.power(cv2.filter2D(image, -1, kernel_Roberts_x), 2.0) + \\\n",
    "    np.power(cv2.filter2D(image, -1, kernel_Roberts_y), 2.0)\n",
    ")\n",
    "image_filtered = np.clip(np.round(image_filtered), 0, 255).astype(dtype=np.uint8)\n",
    "\n",
    "if use_graph:\n",
    "    figure(figsize=(32, 16), dpi=80)\n",
    "    plt.imshow(cv2.cvtColor(image_filtered, cv2.COLOR_GRAY2RGB))\n",
    "    plt.xticks([]),plt.yticks([])\n",
    "    plt.show()"
   ],
   "metadata": {
    "collapsed": false,
    "pycharm": {
     "name": "#%%\n",
     "is_executing": false
    }
   }
  },
  {
   "cell_type": "code",
   "execution_count": 698,
   "outputs": [],
   "source": [
    "# Оператор Робертса вариант 2\n",
    "kernel_Roberts_x = np.array([\n",
    "    [1, 0],\n",
    "    [0, -1]\n",
    "    ])\n",
    "kernel_Roberts_y = np.array([\n",
    "    [0, 1],\n",
    "    [-1, 0]\n",
    "    ])\n",
    "kernel_Ku = 4.0\n",
    "\n",
    "image_filtered = kernel_Ku * np.sqrt(\n",
    "    np.power(cv2.filter2D(image, -1, kernel_Roberts_x), 2.0) + \\\n",
    "    np.power(cv2.filter2D(image, -1, kernel_Roberts_y), 2.0)\n",
    ")\n",
    "image_filtered = np.clip(np.round(image_filtered), 0, 255).astype(dtype=np.uint8)\n",
    "\n",
    "if use_graph:\n",
    "    figure(figsize=(32, 16), dpi=80)\n",
    "    plt.imshow(cv2.cvtColor(image_filtered, cv2.COLOR_GRAY2RGB))\n",
    "    plt.xticks([]),plt.yticks([])\n",
    "    plt.show()"
   ],
   "metadata": {
    "collapsed": false,
    "pycharm": {
     "name": "#%%\n",
     "is_executing": false
    }
   }
  },
  {
   "cell_type": "code",
   "execution_count": 699,
   "outputs": [],
   "source": [
    "# Оператор Робертса мой счетверённый вариант 2\n",
    "kernel_Roberts_x = np.array([\n",
    "    [1, 0],\n",
    "    [0, -1]\n",
    "    ])\n",
    "kernel_Roberts_y = np.array([\n",
    "    [0, 1],\n",
    "    [-1, 0]\n",
    "    ])\n",
    "kernel_Ku = 2.0\n",
    "\n",
    "image_filtered = kernel_Ku * np.sqrt(\n",
    "    np.power(cv2.filter2D(image, -1, kernel_Roberts_x), 2.0) + \\\n",
    "    np.power(cv2.filter2D(image, -1, kernel_Roberts_y), 2.0) + \\\n",
    "    np.power(cv2.filter2D(image, -1, -kernel_Roberts_x), 2.0) + \\\n",
    "    np.power(cv2.filter2D(image, -1, -kernel_Roberts_y), 2.0)\n",
    ")\n",
    "image_filtered = np.clip(np.round(image_filtered), 0, 255).astype(dtype=np.uint8)\n",
    "\n",
    "if use_graph:\n",
    "    figure(figsize=(32, 16), dpi=80)\n",
    "    plt.imshow(cv2.cvtColor(image_filtered, cv2.COLOR_GRAY2RGB))\n",
    "    plt.xticks([]),plt.yticks([])\n",
    "    plt.show()"
   ],
   "metadata": {
    "collapsed": false,
    "pycharm": {
     "name": "#%%\n",
     "is_executing": false
    }
   }
  },
  {
   "cell_type": "code",
   "execution_count": 700,
   "outputs": [],
   "source": [
    "# Оператор Робертса мой свосмерённый вариант 1 и 2\n",
    "kernel_Roberts_x = np.array([\n",
    "    [1, 0],\n",
    "    [0, -1]\n",
    "    ])\n",
    "kernel_Roberts_y = np.array([\n",
    "    [0, 1],\n",
    "    [-1, 0]\n",
    "    ])\n",
    "kernel_Roberts2_x = np.array([\n",
    "    [1, 0],\n",
    "    [0, -1]\n",
    "    ])\n",
    "kernel_Roberts2_y = np.array([\n",
    "    [0, 1],\n",
    "    [-1, 0]\n",
    "    ])\n",
    "kernel_Ku = 1.0\n",
    "\n",
    "image_filtered = kernel_Ku * np.sqrt(\n",
    "    np.power(cv2.filter2D(image, -1, kernel_Roberts_x), 2.0) + \\\n",
    "    np.power(cv2.filter2D(image, -1, kernel_Roberts_y), 2.0) + \\\n",
    "    np.power(cv2.filter2D(image, -1, -kernel_Roberts_x), 2.0) + \\\n",
    "    np.power(cv2.filter2D(image, -1, -kernel_Roberts_y), 2.0) + \\\n",
    "    np.power(cv2.filter2D(image, -1, kernel_Roberts2_x), 2.0) + \\\n",
    "    np.power(cv2.filter2D(image, -1, kernel_Roberts2_y), 2.0) + \\\n",
    "    np.power(cv2.filter2D(image, -1, -kernel_Roberts2_x), 2.0) + \\\n",
    "    np.power(cv2.filter2D(image, -1, -kernel_Roberts2_y), 2.0)\n",
    ")\n",
    "image_filtered = np.clip(np.round(image_filtered), 0, 255).astype(dtype=np.uint8)\n",
    "\n",
    "if use_graph:\n",
    "    figure(figsize=(32, 16), dpi=80)\n",
    "    plt.imshow(cv2.cvtColor(image_filtered, cv2.COLOR_GRAY2RGB))\n",
    "    plt.xticks([]),plt.yticks([])\n",
    "    plt.show()"
   ],
   "metadata": {
    "collapsed": false,
    "pycharm": {
     "name": "#%%\n",
     "is_executing": false
    }
   }
  },
  {
   "cell_type": "markdown",
   "source": [
    "### 4.2 Фильтр Превитта"
   ],
   "metadata": {
    "collapsed": false,
    "pycharm": {
     "name": "#%% md\n",
     "is_executing": false
    }
   }
  },
  {
   "cell_type": "code",
   "execution_count": 701,
   "outputs": [],
   "source": [
    "# Оператор Превитта\n",
    "kernel_Prewitt_x = np.array([\n",
    "    [-1, 0, 1],\n",
    "    [-1, 0, 1],\n",
    "    [-1, 0, 1]])\n",
    "kernel_Prewitt_y = np.array([\n",
    "    [1, 1, 1],\n",
    "    [0, 0, 0],\n",
    "    [-1, -1, -1]])\n",
    "kernel_Ku = 2.0\n",
    "\n",
    "image_filtered = kernel_Ku * np.sqrt(\n",
    "    np.power(cv2.filter2D(image, -1, kernel_Prewitt_x), 2.0) + \\\n",
    "    np.power(cv2.filter2D(image, -1, kernel_Prewitt_y), 2.0)\n",
    ")\n",
    "image_filtered = np.clip(np.round(image_filtered), 0, 255).astype(dtype=np.uint8)\n",
    "\n",
    "if use_graph:\n",
    "    figure(figsize=(32, 16), dpi=80)\n",
    "    plt.imshow(cv2.cvtColor(image_filtered, cv2.COLOR_GRAY2RGB))\n",
    "    plt.xticks([]),plt.yticks([])\n",
    "    plt.show()"
   ],
   "metadata": {
    "collapsed": false,
    "pycharm": {
     "name": "#%%\n",
     "is_executing": false
    }
   }
  },
  {
   "cell_type": "code",
   "execution_count": 702,
   "outputs": [],
   "source": [
    "# Оператор Превитта двунаправленный\n",
    "kernel_Prewitt_x = np.array([\n",
    "    [-1, 0, 1],\n",
    "    [-1, 0, 1],\n",
    "    [-1, 0, 1]])\n",
    "kernel_Prewitt_y = np.array([\n",
    "    [1, 1, 1],\n",
    "    [0, 0, 0],\n",
    "    [-1, -1, -1]])\n",
    "kernel_Ku = 1.0\n",
    "\n",
    "image_filtered = kernel_Ku * np.sqrt(\n",
    "    np.power(cv2.filter2D(image, -1, kernel_Prewitt_x), 2.0) + \\\n",
    "    np.power(cv2.filter2D(image, -1, kernel_Prewitt_y), 2.0) + \\\n",
    "    np.power(cv2.filter2D(image, -1, -kernel_Prewitt_x), 2.0) + \\\n",
    "    np.power(cv2.filter2D(image, -1, -kernel_Prewitt_y), 2.0)\n",
    ")\n",
    "image_filtered = np.clip(np.round(image_filtered), 0, 255).astype(dtype=np.uint8)\n",
    "\n",
    "if use_graph:\n",
    "    figure(figsize=(32, 16), dpi=80)\n",
    "    plt.imshow(cv2.cvtColor(image_filtered, cv2.COLOR_GRAY2RGB))\n",
    "    plt.xticks([]),plt.yticks([])\n",
    "    plt.show()"
   ],
   "metadata": {
    "collapsed": false,
    "pycharm": {
     "name": "#%% \n",
     "is_executing": false
    }
   }
  },
  {
   "cell_type": "markdown",
   "source": [
    "### 4.3 Фильтр Собела"
   ],
   "metadata": {
    "collapsed": false
   }
  },
  {
   "cell_type": "code",
   "execution_count": 703,
   "outputs": [],
   "source": [
    "# Оператор Собела\n",
    "kernel_Sobel_x = np.array([\n",
    "    [-1, 0, 1],\n",
    "    [-2, 0, 2],\n",
    "    [-1, 0, 1]])\n",
    "kernel_Sobel_y = np.array([\n",
    "    [1, 2, 1],\n",
    "    [0, 0, 0],\n",
    "    [-1, -2, -1]])\n",
    "kernel_Ku = 2.0\n",
    "\n",
    "image_filtered = kernel_Ku * np.sqrt(\n",
    "    np.power(cv2.filter2D(image, -1, kernel_Sobel_x), 2.0) + \\\n",
    "    np.power(cv2.filter2D(image, -1, kernel_Sobel_y), 2.0)\n",
    ")\n",
    "image_filtered = np.clip(np.round(image_filtered), 0, 255).astype(dtype=np.uint8)\n",
    "\n",
    "if use_graph:\n",
    "    figure(figsize=(32, 16), dpi=80)\n",
    "    plt.imshow(cv2.cvtColor(image_filtered, cv2.COLOR_GRAY2RGB))\n",
    "    plt.xticks([]),plt.yticks([])\n",
    "    plt.show()"
   ],
   "metadata": {
    "collapsed": false,
    "pycharm": {
     "name": "#%% \n",
     "is_executing": false
    }
   }
  },
  {
   "cell_type": "code",
   "execution_count": 704,
   "outputs": [],
   "source": [
    "# Оператор Собела двунаправленный\n",
    "kernel_Sobel_x = np.array([\n",
    "    [-1, 0, 1],\n",
    "    [-2, 0, 2],\n",
    "    [-1, 0, 1]])\n",
    "kernel_Sobel_y = np.array([\n",
    "    [1, 2, 1],\n",
    "    [0, 0, 0],\n",
    "    [-1, -2, -1]])\n",
    "kernel_Ku = 1.0\n",
    "\n",
    "image_filtered = kernel_Ku * np.sqrt(\n",
    "    np.power(cv2.filter2D(image, -1, kernel_Sobel_x), 2.0) + \\\n",
    "    np.power(cv2.filter2D(image, -1, kernel_Sobel_y), 2.0) + \\\n",
    "    np.power(cv2.filter2D(image, -1, -kernel_Sobel_x), 2.0) + \\\n",
    "    np.power(cv2.filter2D(image, -1, -kernel_Sobel_y), 2.0) \n",
    ")\n",
    "image_filtered = np.clip(np.round(image_filtered), 0, 255).astype(dtype=np.uint8)\n",
    "\n",
    "if use_graph:\n",
    "    figure(figsize=(32, 16), dpi=80)\n",
    "    plt.imshow(cv2.cvtColor(image_filtered, cv2.COLOR_GRAY2RGB))\n",
    "    plt.xticks([]),plt.yticks([])\n",
    "    plt.show()"
   ],
   "metadata": {
    "collapsed": false,
    "pycharm": {
     "name": "#%%\n",
     "is_executing": false
    }
   }
  },
  {
   "cell_type": "markdown",
   "source": [
    "### 4.4 Фильтр Лапласа"
   ],
   "metadata": {
    "collapsed": false
   }
  },
  {
   "cell_type": "code",
   "execution_count": 705,
   "outputs": [],
   "source": [
    "# Оператор Лапласа 1 порядка\n",
    "kernel_Laplacian_1 = np.array([\n",
    "    [0, 1, 0],\n",
    "    [1, -4, 1],\n",
    "    [0, 1, 0]])\n",
    "kernel_Ku = 4.0\n",
    "\n",
    "image_filtered = kernel_Ku * cv2.filter2D(image, -1, kernel_Laplacian_1)\n",
    "image_filtered = np.clip(np.round(image_filtered), 0, 255).astype(dtype=np.uint8)\n",
    "\n",
    "if use_graph:\n",
    "    figure(figsize=(32, 16), dpi=80)\n",
    "    plt.imshow(cv2.cvtColor(image_filtered, cv2.COLOR_GRAY2RGB))\n",
    "    plt.xticks([]),plt.yticks([])\n",
    "    plt.show()"
   ],
   "metadata": {
    "collapsed": false,
    "pycharm": {
     "name": "#%% \n",
     "is_executing": false
    }
   }
  },
  {
   "cell_type": "code",
   "execution_count": 706,
   "outputs": [],
   "source": [
    "# Оператор Лапласа 2 порядка\n",
    "kernel_Laplacian_2 = np.array([\n",
    "    [1, 1, 1],\n",
    "    [1, -8, 1],\n",
    "    [1, 1, 1]])\n",
    "kernel_Ku = 2.0\n",
    "\n",
    "image_filtered = kernel_Ku * cv2.filter2D(image, -1, kernel_Laplacian_2)\n",
    "image_filtered = np.clip(np.round(image_filtered), 0, 255).astype(dtype=np.uint8)\n",
    "\n",
    "if use_graph:\n",
    "    figure(figsize=(32, 16), dpi=80)\n",
    "    plt.imshow(cv2.cvtColor(image_filtered, cv2.COLOR_GRAY2RGB))\n",
    "    plt.xticks([]),plt.yticks([])\n",
    "    plt.show()"
   ],
   "metadata": {
    "collapsed": false,
    "pycharm": {
     "name": "#%% \n",
     "is_executing": false
    }
   }
  },
  {
   "cell_type": "code",
   "execution_count": 707,
   "outputs": [],
   "source": [
    "# Оператор Лапласа 3 порядка\n",
    "kernel_Laplacian_3 = np.array([\n",
    "    [2, -1, 2],\n",
    "    [-1, -4, -1],\n",
    "    [2, -1, 2]])\n",
    "kernel_Ku = 2.0\n",
    "\n",
    "image_filtered = kernel_Ku * cv2.filter2D(image, -1, kernel_Laplacian_3)\n",
    "image_filtered = np.clip(np.round(image_filtered), 0, 255).astype(dtype=np.uint8)\n",
    "\n",
    "if use_graph:\n",
    "    figure(figsize=(32, 16), dpi=80)\n",
    "    plt.imshow(cv2.cvtColor(image_filtered, cv2.COLOR_GRAY2RGB))\n",
    "    plt.xticks([]),plt.yticks([])\n",
    "    plt.show()"
   ],
   "metadata": {
    "collapsed": false,
    "pycharm": {
     "name": "#%% \n",
     "is_executing": false
    }
   }
  },
  {
   "cell_type": "code",
   "execution_count": 708,
   "outputs": [],
   "source": [
    "# Оператор Лапласа 4 порядка\n",
    "kernel_Laplacian_4 = np.array([\n",
    "    [-1, 2, -1],\n",
    "    [2, -4, 2],\n",
    "    [-1, 2, -1]])\n",
    "kernel_Ku = 4.0\n",
    "\n",
    "image_filtered = kernel_Ku * cv2.filter2D(image, -1, kernel_Laplacian_4)\n",
    "image_filtered = np.clip(np.round(image_filtered), 0, 255).astype(dtype=np.uint8)\n",
    "\n",
    "if use_graph:\n",
    "    figure(figsize=(32, 16), dpi=80)\n",
    "    plt.imshow(cv2.cvtColor(image_filtered, cv2.COLOR_GRAY2RGB))\n",
    "    plt.xticks([]),plt.yticks([])\n",
    "    plt.show()"
   ],
   "metadata": {
    "collapsed": false,
    "pycharm": {
     "name": "#%% \n",
     "is_executing": false
    }
   }
  },
  {
   "cell_type": "markdown",
   "source": [
    "### 4.5 Фильтр Кенни"
   ],
   "metadata": {
    "collapsed": false,
    "pycharm": {
     "name": "#%% md\n",
     "is_executing": false
    }
   }
  },
  {
   "cell_type": "code",
   "execution_count": 709,
   "outputs": [
    {
     "name": "stdout",
     "text": [
      "threshold1 = 10.0, threshold2 = 20.0\n"
     ],
     "output_type": "stream"
    }
   ],
   "source": [
    "threshold1 = 10.0\n",
    "threshold2 = 20.0\n",
    "print(f\"threshold1 = {threshold1}, threshold2 = {threshold2}\")\n",
    "if use_graph:\n",
    "    figure(figsize=(32, 16), dpi=80)\n",
    "    plt.imshow(cv2.cvtColor(cv2.Canny(image, threshold1, threshold2), cv2.COLOR_GRAY2RGB))\n",
    "    plt.xticks([]),plt.yticks([])\n",
    "    plt.show()"
   ],
   "metadata": {
    "collapsed": false,
    "pycharm": {
     "name": "#%% \n",
     "is_executing": false
    }
   }
  },
  {
   "cell_type": "code",
   "execution_count": 710,
   "outputs": [
    {
     "name": "stdout",
     "text": [
      "threshold1 = 30.0, threshold2 = 70.0\n"
     ],
     "output_type": "stream"
    }
   ],
   "source": [
    "threshold1 = 30.0\n",
    "threshold2 = 70.0\n",
    "print(f\"threshold1 = {threshold1}, threshold2 = {threshold2}\")\n",
    "if use_graph:\n",
    "    figure(figsize=(32, 16), dpi=80)\n",
    "    plt.imshow(cv2.cvtColor(cv2.Canny(image, threshold1, threshold2), cv2.COLOR_GRAY2RGB))\n",
    "    plt.xticks([]),plt.yticks([])\n",
    "    plt.show()"
   ],
   "metadata": {
    "collapsed": false,
    "pycharm": {
     "name": "#%% \n",
     "is_executing": false
    }
   }
  },
  {
   "cell_type": "code",
   "execution_count": 711,
   "outputs": [
    {
     "name": "stdout",
     "text": [
      "threshold1 = 100.0, threshold2 = 200.0\n"
     ],
     "output_type": "stream"
    }
   ],
   "source": [
    "threshold1 = 100.0\n",
    "threshold2 = 200.0\n",
    "print(f\"threshold1 = {threshold1}, threshold2 = {threshold2}\")\n",
    "if use_graph:\n",
    "    figure(figsize=(32, 16), dpi=80)\n",
    "    plt.imshow(cv2.cvtColor(cv2.Canny(image, threshold1, threshold2), cv2.COLOR_GRAY2RGB))\n",
    "    plt.xticks([]),plt.yticks([])\n",
    "    plt.show()"
   ],
   "metadata": {
    "collapsed": false,
    "pycharm": {
     "name": "#%% \n",
     "is_executing": false
    }
   }
  },
  {
   "cell_type": "code",
   "execution_count": 712,
   "outputs": [
    {
     "name": "stdout",
     "text": [
      "threshold1 = 200.0, threshold2 = 500.0\n"
     ],
     "output_type": "stream"
    }
   ],
   "source": [
    "threshold1 = 200.0\n",
    "threshold2 = 500.0\n",
    "print(f\"threshold1 = {threshold1}, threshold2 = {threshold2}\")\n",
    "if use_graph:\n",
    "    figure(figsize=(32, 16), dpi=80)\n",
    "    plt.imshow(cv2.cvtColor(cv2.Canny(image, threshold1, threshold2), cv2.COLOR_GRAY2RGB))\n",
    "    plt.xticks([]),plt.yticks([])\n",
    "    plt.show()"
   ],
   "metadata": {
    "collapsed": false,
    "pycharm": {
     "name": "#%% \n",
     "is_executing": false
    }
   }
  },
  {
   "cell_type": "code",
   "execution_count": 713,
   "outputs": [
    {
     "name": "stdout",
     "text": [
      "threshold1 = 30.0, threshold2 = 100.0\n"
     ],
     "output_type": "stream"
    }
   ],
   "source": [
    "threshold1 = 30.0\n",
    "threshold2 = 100.0\n",
    "print(f\"threshold1 = {threshold1}, threshold2 = {threshold2}\")\n",
    "if use_graph:\n",
    "    figure(figsize=(32, 16), dpi=80)\n",
    "    plt.imshow(cv2.cvtColor(cv2.Canny(image, threshold1, threshold2), cv2.COLOR_GRAY2RGB))\n",
    "    plt.xticks([]),plt.yticks([])\n",
    "    plt.show()"
   ],
   "metadata": {
    "collapsed": false,
    "pycharm": {
     "name": "#%% \n",
     "is_executing": false
    }
   }
  },
  {
   "cell_type": "code",
   "execution_count": 714,
   "outputs": [
    {
     "name": "stdout",
     "text": [
      "threshold1 = 100.0, threshold2 = 30.0\n"
     ],
     "output_type": "stream"
    }
   ],
   "source": [
    "threshold1 = 100.0\n",
    "threshold2 = 30.0\n",
    "print(f\"threshold1 = {threshold1}, threshold2 = {threshold2}\")\n",
    "if use_graph:\n",
    "    figure(figsize=(32, 16), dpi=80)\n",
    "    plt.imshow(cv2.cvtColor(cv2.Canny(image, threshold1, threshold2), cv2.COLOR_GRAY2RGB))\n",
    "    plt.xticks([]),plt.yticks([])\n",
    "    plt.show()"
   ],
   "metadata": {
    "collapsed": false,
    "pycharm": {
     "name": "#%% \n",
     "is_executing": false
    }
   }
  }
 ],
 "metadata": {
  "kernelspec": {
   "display_name": "Python 3",
   "language": "python",
   "name": "python3"
  },
  "language_info": {
   "codemirror_mode": {
    "name": "ipython",
    "version": 2
   },
   "file_extension": ".py",
   "mimetype": "text/x-python",
   "name": "python",
   "nbconvert_exporter": "python",
   "pygments_lexer": "ipython2",
   "version": "2.7.6"
  },
  "pycharm": {
   "stem_cell": {
    "cell_type": "raw",
    "source": [],
    "metadata": {
     "collapsed": false
    }
   }
  }
 },
 "nbformat": 4,
 "nbformat_minor": 0
}