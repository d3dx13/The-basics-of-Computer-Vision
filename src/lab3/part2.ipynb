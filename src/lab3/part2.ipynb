{
 "cells": [
  {
   "cell_type": "markdown",
   "metadata": {
    "collapsed": true,
    "pycharm": {
     "name": "#%% md\n"
    }
   },
   "source": [
    "### 4 Высокочастотная фильтрация\n",
    "\n",
    "Высокочастотные пространственные фильтры усиливают высокочастотные компоненты \n",
    "(области с сильным изменением интенсивностей) и ослабляют низкочастотные составляющие изображения. \n",
    "Используются для выделения перепадов интенсивностей и определения границ (контуров) на изображениях"
   ]
  },
  {
   "cell_type": "markdown",
   "source": [
    "### 4.1 Фильтр Робертса"
   ],
   "metadata": {
    "collapsed": false
   }
  },
  {
   "cell_type": "code",
   "execution_count": null,
   "outputs": [],
   "source": [
    "import cv2\n",
    "import skimage\n",
    "import skimage.filters\n",
    "import skimage.restoration\n",
    "import scipy\n",
    "import scipy.ndimage\n",
    "import scipy.signal\n",
    "import numpy as np\n",
    "from matplotlib import pyplot as plt\n",
    "from matplotlib.pyplot import figure\n",
    "from numba import njit, jit\n",
    "from math import *\n",
    "import warnings\n",
    "warnings.filterwarnings('ignore')\n",
    "export_parallel = True\n",
    "use_graph = False"
   ],
   "metadata": {
    "collapsed": false,
    "pycharm": {
     "name": "#%% \n",
     "is_executing": true
    }
   }
  },
  {
   "cell_type": "code",
   "execution_count": null,
   "outputs": [],
   "source": [
    "use_graph = True\n",
    "# Новое изображение для обнаружения линий.\n",
    "# Предположим, мы пишем алгоритм компьютерного зрения для игры в Cyberpunk 2077\n",
    "image = cv2.imread('data/road.png')\n",
    "if use_graph:\n",
    "    figure(figsize=(32, 16), dpi=80)\n",
    "    plt.imshow(cv2.cvtColor(image, cv2.COLOR_GRAY2RGB))\n",
    "    plt.xticks([]),plt.yticks([])\n",
    "    plt.show()"
   ],
   "metadata": {
    "collapsed": false,
    "pycharm": {
     "name": "#%% \n"
    }
   }
  },
  {
   "cell_type": "code",
   "execution_count": null,
   "outputs": [],
   "source": [
    "# Оператор Робертса\n",
    "kernel_Roberts_x = np.array([\n",
    "    [1, 0],\n",
    "    [0, -1]\n",
    "    ])\n",
    "kernel_Roberts_y = np.array([\n",
    "    [0, -1],\n",
    "    [1, 0]\n",
    "    ])\n",
    "\n",
    "image_filtered = cv2.hconcat([image, image_filtered])\n",
    "\n"
   ],
   "metadata": {
    "collapsed": false,
    "pycharm": {
     "name": "#%%\n"
    }
   }
  },
  {
   "cell_type": "code",
   "execution_count": null,
   "outputs": [],
   "source": [
    " # Sobel edge operator\n",
    "kernel_Sobel_x = np.array([\n",
    "    [-1, 0, 1],\n",
    "    [-2, 0, 2],\n",
    "    [-1, 0, 1]])\n",
    "kernel_Sobel_y = np.array([\n",
    "    [1, 2, 1],\n",
    "    [0, 0, 0],\n",
    "    [-1, -2, -1]])\n",
    " # Prewitt edge operator\n",
    "kernel_Prewitt_x = np.array([\n",
    "    [-1, 0, 1],\n",
    "    [-1, 0, 1],\n",
    "    [-1, 0, 1]])\n",
    "kernel_Prewitt_y = np.array([\n",
    "    [1, 1, 1],\n",
    "    [0, 0, 0],\n",
    "    [-1, -1, -1]])\n",
    "kernel_Laplacian_1 = np.array([\n",
    "    [0, 1, 0],\n",
    "    [1, -4, 1],\n",
    "    [0, 1, 0]])\n",
    "kernel_Laplacian_2 = np.array([\n",
    "    [1, 1, 1],\n",
    "    [1, -8, 1],\n",
    "    [1, 1, 1]])\n",
    " # Two convolution kernels do not have rotation invariance\n",
    "kernel_Laplacian_3 = np.array([\n",
    "    [2, -1, 2],\n",
    "    [-1, -4, -1],\n",
    "    [2, 1, 2]])\n",
    "kernel_Laplacian_4 = np.array([\n",
    "    [-1, 2, -1],\n",
    "    [2, -4, 2],\n",
    "    [-1, 2, -1]])\n",
    " # 5*5 LoG Convolution Template\n",
    "kernel_LoG = np.array([\n",
    "    [0, 0, -1, 0, 0],\n",
    "    [0, -1, -2, -1, 0],\n",
    "    [-1, -2, 16, -2, -1],\n",
    "    [0, -1, -2, -1, 0],\n",
    "    [0, 0, -1, 0, 0]])\n",
    " # convolution"
   ],
   "metadata": {
    "collapsed": false,
    "pycharm": {
     "name": "#%%\n"
    }
   }
  }
 ],
 "metadata": {
  "kernelspec": {
   "display_name": "Python 3",
   "language": "python",
   "name": "python3"
  },
  "language_info": {
   "codemirror_mode": {
    "name": "ipython",
    "version": 2
   },
   "file_extension": ".py",
   "mimetype": "text/x-python",
   "name": "python",
   "nbconvert_exporter": "python",
   "pygments_lexer": "ipython2",
   "version": "2.7.6"
  },
  "pycharm": {
   "stem_cell": {
    "cell_type": "raw",
    "source": [],
    "metadata": {
     "collapsed": false
    }
   }
  }
 },
 "nbformat": 4,
 "nbformat_minor": 0
}