{
 "cells": [
  {
   "cell_type": "markdown",
   "metadata": {},
   "source": [
    "1. Типы шумов. Выбрать произвольное изображение. Получить\n",
    "искаженные различными шумами изображения с помощью\n",
    "функции imnoise() с отличными от значений по умолчанию\n",
    "параметрами.\n",
    "\n",
    "2. Низкочастотная фильтрация. Обработать полученные в\n",
    "предыдущем пункте искаженные изображения фильтром\n",
    "Гаусса и контргармоническим усредняющим фильтром с различными значениями параметра 𝑄.\n",
    "\n",
    "3. Нелинейная фильтрация. Обработать полученные в первом\n",
    "пункте искаженные изображения медианной, взвешенной медианной, ранговой и Винеровской фильтрациями при различных размерах маски и ее коэффициентов. Реализовать адаптивную медианную фильтрацию.\n",
    "\n",
    "4. Высокочастотная фильтрация. Выбрать исходное изображение. Выделить границы фильтрами Робертса, Превитта, Собела, Лапласа, алгоритмом Кэнни."
   ]
  },
  {
   "cell_type": "markdown",
   "metadata": {
    "collapsed": true,
    "pycharm": {
     "name": "#%% md\n"
    }
   },
   "source": [
    "**Типы шумов**\n",
    "\n",
    "Цифровые изображения, полученные различными оптикоэлектронными приборами, могут содержать в себе разнообразные\n",
    "искажения, обусловленные разного рода помехами, которые принято называть шумом. Шум на изображении затрудняет его \n",
    "обработку автоматическими средствами и, поскольку шум может иметь различную природу, для его успешного подавления \n",
    "необходимо определить адекватную математическую модель. Рассмотрим наиболее распространенные модели шумов. "
   ]
  },
  {
   "cell_type": "code",
   "execution_count": 52,
   "metadata": {
    "pycharm": {
     "is_executing": false,
     "name": "#%% \n"
    }
   },
   "outputs": [],
   "source": [
    "import cv2\n",
    "import skimage\n",
    "import skimage.filters\n",
    "import numpy as np\n",
    "from matplotlib import pyplot as plt\n",
    "from matplotlib.pyplot import figure\n",
    "from numba import njit, jit\n",
    "from math import *\n",
    "import warnings\n",
    "warnings.filterwarnings('ignore')\n",
    "export_parallel = True\n",
    "use_graph = False"
   ]
  },
  {
   "cell_type": "code",
   "execution_count": 53,
   "metadata": {
    "pycharm": {
     "is_executing": false,
     "name": "#%% \n"
    }
   },
   "outputs": [
    {
     "name": "stdout",
     "text": [
      "(2074, 3782)\n"
     ],
     "output_type": "stream"
    }
   ],
   "source": [
    "# Исходное изображение до наложения шума\n",
    "image = cv2.cvtColor(cv2.imread(\"data/night_city.jpg\"), cv2.COLOR_BGR2GRAY)\n",
    "print(image.shape)\n",
    "\n",
    "images_noised = {}\n",
    "\n",
    "# Общая для всех зашумлённость\n",
    "amount = 0.2\n",
    "var = 0.2\n",
    "mean = 0.0\n",
    "lam = 20.0"
   ]
  },
  {
   "cell_type": "code",
   "execution_count": 54,
   "metadata": {
    "pycharm": {
     "is_executing": false,
     "name": "#%%\n"
    }
   },
   "outputs": [],
   "source": [
    "# Исходное изображение до наложения шума\n",
    "if use_graph:\n",
    "    figure(figsize=(32, 16), dpi=80)\n",
    "    plt.imshow(cv2.cvtColor(image, cv2.COLOR_GRAY2RGB))\n",
    "    plt.xticks([]),plt.yticks([])\n",
    "    plt.show()"
   ]
  },
  {
   "cell_type": "markdown",
   "metadata": {
    "pycharm": {
     "name": "#%% md\n"
    }
   },
   "source": [
    "**Импульсный шум**\n",
    "\n",
    "При импульсном шуме сигнал искажается выбросами с очень\n",
    "большими отрицательными или положительными значениями малой длительностью и может возникать, например, из-за ошибок\n",
    "декодирования. Такой шум приводит к появлению на изображении белых («соль») или черных («перец») точек, поэтому зачастую\n",
    "называется точечным шумом. Для его описания следует принять\n",
    "во внимание тот факт, что появление шумового выброса в каждом\n",
    "пикселе 𝐼(𝑥,𝑦) не зависит ни от качества исходного изображения, ни\n",
    "от наличия шума в других точках и имеет вероятность появления\n",
    "𝑝, причем значение интенсивности пикселя 𝐼(𝑥,𝑦) будет изменено\n",
    "на значение 𝑑 ∈ [0,255]"
   ]
  },
  {
   "cell_type": "code",
   "execution_count": 55,
   "metadata": {
    "pycharm": {
     "is_executing": false,
     "name": "#%%\n"
    }
   },
   "outputs": [],
   "source": [
    "# Наложение импульсного шума\n",
    "image_noised_s_and_p = skimage.util.random_noise(image, mode=\"s&p\", amount=amount, salt_vs_pepper=0.3)\n",
    "image_noised_s_and_p = np.clip(image_noised_s_and_p, 0.0, 1.0)\n",
    "image_noised_s_and_p = skimage.img_as_ubyte(image_noised_s_and_p)\n",
    "images_noised[\"salt and pepper\"] = image_noised_s_and_p.copy()\n",
    "\n",
    "image_noised_all = image_noised_s_and_p\n",
    "\n",
    "# Изображение после наложения импульсного шума\n",
    "if use_graph:\n",
    "    figure(figsize=(32, 16), dpi=80)\n",
    "    plt.imshow(cv2.cvtColor(image_noised_s_and_p, cv2.COLOR_GRAY2RGB))\n",
    "    plt.xticks([]),plt.yticks([])\n",
    "    plt.show()"
   ]
  },
  {
   "cell_type": "markdown",
   "metadata": {},
   "source": [
    "**Аддитивный шум**\n",
    "\n",
    "Аддитивный шум описывается следующим выражением:\n",
    "\n",
    "𝐼𝑛𝑒𝑤(𝑥,𝑦) = 𝐼(𝑥,𝑦) + 𝜂(𝑥,𝑦),\n",
    "\n",
    "где 𝐼𝑛𝑒𝑤 — зашумленное изображение, \n",
    "𝐼 — исходное изображение,\n",
    "𝜂 — не зависящий от сигнала аддитивный шум с гауссовым или\n",
    "любым другим распределением функции плотности вероятности."
   ]
  },
  {
   "cell_type": "markdown",
   "metadata": {},
   "source": [
    "**Мультипликативный шум**\n",
    "\n",
    "Мультипликативный шум описывается следующим выражением:\n",
    "\n",
    "𝐼𝑛𝑒𝑤(𝑥,𝑦) = 𝐼(𝑥,𝑦) · 𝜂(𝑥,𝑦),\n",
    "\n",
    "где 𝐼𝑛𝑒𝑤 — зашумленное изображение, 𝐼 — исходное изображение, 𝜂\n",
    "— не зависящий от сигнала мультипликативный шум, умножающий\n",
    "зарегистрированный сигнал. В качестве примера можно привести \n",
    "зернистость фотопленки, ультразвуковые изображения и т.д. Частным случаем мультипликативного шума является спекл-шум, \n",
    "который появляется на изображениях, полученных устройствами с когерентным формированием изображений, например, \n",
    "медицинскими\n",
    "сканерами или радарами. На таких изображениях можно отчетливо\n",
    "наблюдать светлые пятна, крапинки (спеклы), которые разделены\n",
    "темными участками изображения."
   ]
  },
  {
   "cell_type": "code",
   "execution_count": 56,
   "metadata": {
    "pycharm": {
     "is_executing": false,
     "name": "#%%\n"
    }
   },
   "outputs": [],
   "source": [
    "# Наложение мультипликативного шума\n",
    "image_noised_multi = skimage.util.random_noise(image, mode=\"speckle\", var=var, mean=mean)\n",
    "image_noised_multi = np.clip(image_noised_multi, 0.0, 1.0)\n",
    "image_noised_multi = skimage.img_as_ubyte(image_noised_multi)\n",
    "images_noised[\"speckle\"] = image_noised_multi.copy()\n",
    "\n",
    "image_noised_all = skimage.util.random_noise(image_noised_all, mode=\"speckle\", var=var, mean=mean)\n",
    "image_noised_all = np.clip(image_noised_all, 0.0, 1.0)\n",
    "image_noised_all = skimage.img_as_ubyte(image_noised_all)\n",
    "\n",
    "# Изображение после наложения мультипликативного шума\n",
    "if use_graph:\n",
    "    figure(figsize=(32, 16), dpi=80)\n",
    "    plt.imshow(cv2.cvtColor(image_noised_multi, cv2.COLOR_GRAY2RGB))\n",
    "    plt.xticks([]),plt.yticks([])\n",
    "    plt.show()"
   ]
  },
  {
   "cell_type": "markdown",
   "metadata": {},
   "source": [
    "**Гауссов (нормальный) шум**\n",
    "\n",
    "Гауссов шум на изображении может возникать в следствие недостатка освещенности сцены, высокой температуры и т.д. \n",
    "Модель шума широко распространена в задачах низкочастотной фильтрации изображений. "
   ]
  },
  {
   "cell_type": "code",
   "execution_count": 57,
   "metadata": {
    "pycharm": {
     "is_executing": false,
     "name": "#%%\n"
    }
   },
   "outputs": [],
   "source": [
    "# Наложение Гауссова шума\n",
    "image_noised_gaussian = skimage.util.random_noise(image, mode=\"gaussian\", var=var, mean=mean)\n",
    "image_noised_gaussian = np.clip(image_noised_gaussian, 0.0, 1.0)\n",
    "image_noised_gaussian = skimage.img_as_ubyte(image_noised_gaussian)\n",
    "images_noised[\"gaussian\"] = image_noised_gaussian.copy()\n",
    "\n",
    "image_noised_all = skimage.util.random_noise(image_noised_all, mode=\"gaussian\", var=var, mean=mean)\n",
    "image_noised_all = np.clip(image_noised_all, 0.0, 1.0)\n",
    "image_noised_all = skimage.img_as_ubyte(image_noised_all)\n",
    "\n",
    "# Изображение после наложения Гауссова шума\n",
    "if use_graph:\n",
    "    figure(figsize=(32, 16), dpi=80)\n",
    "    plt.imshow(cv2.cvtColor(image_noised_gaussian, cv2.COLOR_GRAY2RGB))\n",
    "    plt.xticks([]),plt.yticks([])\n",
    "    plt.show()"
   ]
  },
  {
   "cell_type": "markdown",
   "metadata": {},
   "source": [
    "**Шум квантования**\n",
    "\n",
    "Зависит от выбранного шага квантования и самого сигнала.\n",
    "Шум квантования может приводить, например, к появлению ложных контуров вокруг объектов или убирать слабо \n",
    "контрастные детали на изображении. Такой шум не устраняется. Приближенно\n",
    "шум квантования можно описать распределением Пуассона"
   ]
  },
  {
   "cell_type": "code",
   "execution_count": 58,
   "metadata": {
    "pycharm": {
     "is_executing": false,
     "name": "#%%\n"
    }
   },
   "outputs": [],
   "source": [
    "# Создание шума квантования с заданными параметрами распределения Пуассона\n",
    "noise_poisson = np.random.poisson(lam=lam, size=image.shape) * (1.0 / 255.0)\n",
    "noise_poisson = np.clip(noise_poisson, 1.0 / 255.0, 1.0)\n",
    "\n",
    "# Наложение шума квантования\n",
    "image_noised_poisson = skimage.util.random_noise(image, mode=\"localvar\", local_vars=noise_poisson)\n",
    "image_noised_poisson = np.clip(image_noised_poisson, 0.0, 1.0)\n",
    "image_noised_poisson = skimage.img_as_ubyte(image_noised_poisson)\n",
    "images_noised[\"poisson\"] = image_noised_poisson.copy()\n",
    "\n",
    "image_noised_all = skimage.util.random_noise(image_noised_all, mode=\"localvar\", local_vars=noise_poisson)\n",
    "image_noised_all = np.clip(image_noised_all, 0.0, 1.0)\n",
    "image_noised_all = skimage.img_as_ubyte(image_noised_all)\n",
    "\n",
    "# Изображение после наложения шума квантования\n",
    "if use_graph:\n",
    "    figure(figsize=(32, 16), dpi=80)\n",
    "    plt.imshow(cv2.cvtColor(image_noised_poisson, cv2.COLOR_GRAY2RGB))\n",
    "    plt.xticks([]),plt.yticks([])\n",
    "    plt.show()"
   ]
  },
  {
   "cell_type": "code",
   "execution_count": 59,
   "metadata": {
    "pycharm": {
     "is_executing": false,
     "name": "#%%\n"
    }
   },
   "outputs": [],
   "source": [
    "# Изображение после наложения всех шумов\n",
    "if use_graph:\n",
    "    figure(figsize=(32, 16), dpi=80)\n",
    "    plt.imshow(cv2.cvtColor(image_noised_all, cv2.COLOR_GRAY2RGB))\n",
    "    plt.xticks([]),plt.yticks([])\n",
    "    plt.show()"
   ]
  },
  {
   "cell_type": "markdown",
   "metadata": {
    "pycharm": {
     "is_executing": false,
     "name": "#%% md\n"
    }
   },
   "source": [
    "### 2.1 Фильтр Гаусса"
   ]
  },
  {
   "cell_type": "code",
   "source": [
    "# Применеие фильтра Гаусса ко всем зашумлённым изображениям\n",
    "if use_graph:\n",
    "    image_combined = None\n",
    "    for image_name in images_noised.keys():\n",
    "        print(image_name)\n",
    "        image_filtered = skimage.filters.gaussian(images_noised[image_name], sigma=4.0)\n",
    "        image_filtered = np.clip(image_filtered, 0.0, 1.0)\n",
    "        image_filtered = skimage.img_as_ubyte(image_filtered)\n",
    "        image_filtered = cv2.hconcat([images_noised[image_name], image_filtered])\n",
    "        if image_combined is None:\n",
    "            image_combined = image_filtered\n",
    "        else:\n",
    "            image_combined = cv2.vconcat([image_combined, image_filtered])\n",
    "    figure(figsize=(32, 16), dpi=80)\n",
    "    plt.imshow(cv2.cvtColor(image_combined, cv2.COLOR_GRAY2RGB))\n",
    "    plt.xticks([]),plt.yticks([])\n",
    "    plt.show()"
   ],
   "metadata": {
    "collapsed": false,
    "pycharm": {
     "name": "#%%\n",
     "is_executing": false
    }
   },
   "execution_count": 60,
   "outputs": []
  },
  {
   "cell_type": "markdown",
   "source": [
    "### 2.1 Контргармонический усредняющий фильтр с различными значениями параметра 𝑄"
   ],
   "metadata": {
    "collapsed": false
   }
  },
  {
   "cell_type": "code",
   "execution_count": null,
   "outputs": [],
   "source": [
    "def counter_harmonic_mean_filter(image, kernel_size, Q):\n",
    "    \n"
   ],
   "metadata": {
    "collapsed": false,
    "pycharm": {
     "name": "#%%\n"
    }
   }
  }
 ],
 "metadata": {
  "kernelspec": {
   "display_name": "Python 3",
   "language": "python",
   "name": "python3"
  },
  "language_info": {
   "codemirror_mode": {
    "name": "ipython",
    "version": 3
   },
   "file_extension": ".py",
   "mimetype": "text/x-python",
   "name": "python",
   "nbconvert_exporter": "python",
   "pygments_lexer": "ipython3",
   "version": "3.7.9"
  },
  "pycharm": {
   "stem_cell": {
    "cell_type": "raw",
    "source": [],
    "metadata": {
     "collapsed": false
    }
   }
  }
 },
 "nbformat": 4,
 "nbformat_minor": 1
}