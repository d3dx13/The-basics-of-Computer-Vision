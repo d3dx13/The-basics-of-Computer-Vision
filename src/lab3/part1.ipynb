{
 "cells": [
  {
   "cell_type": "markdown",
   "metadata": {},
   "source": [
    "1. Типы шумов. Выбрать произвольное изображение. Получить\n",
    "искаженные различными шумами изображения с помощью\n",
    "функции imnoise() с отличными от значений по умолчанию\n",
    "параметрами.\n",
    "\n",
    "2. Низкочастотная фильтрация. Обработать полученные в\n",
    "предыдущем пункте искаженные изображения фильтром\n",
    "Гаусса и контргармоническим усредняющим фильтром с различными значениями параметра 𝑄.\n",
    "\n",
    "4. Высокочастотная фильтрация. Выбрать исходное изображение. \n",
    "Выделить границы фильтрами \n",
    "\n",
    "Робертса, \n",
    "Превитта, \n",
    "Собела, \n",
    "Лапласа,\n",
    "алгоритмом Кэнни."
   ]
  },
  {
   "cell_type": "markdown",
   "metadata": {
    "collapsed": true,
    "pycharm": {
     "name": "#%% md\n"
    }
   },
   "source": [
    "**Типы шумов**\n",
    "\n",
    "Цифровые изображения, полученные различными оптикоэлектронными приборами, могут содержать в себе разнообразные\n",
    "искажения, обусловленные разного рода помехами, которые принято называть шумом. Шум на изображении затрудняет его \n",
    "обработку автоматическими средствами и, поскольку шум может иметь различную природу, для его успешного подавления \n",
    "необходимо определить адекватную математическую модель. Рассмотрим наиболее распространенные модели шумов. "
   ]
  },
  {
   "cell_type": "code",
   "execution_count": 2283,
   "metadata": {
    "pycharm": {
     "is_executing": false,
     "name": "#%% \n"
    }
   },
   "outputs": [],
   "source": [
    "import cv2\n",
    "import skimage\n",
    "import skimage.filters\n",
    "import skimage.restoration\n",
    "import scipy\n",
    "import scipy.ndimage\n",
    "import scipy.signal\n",
    "import numpy as np\n",
    "from matplotlib import pyplot as plt\n",
    "from matplotlib.pyplot import figure\n",
    "from numba import njit, jit\n",
    "from math import *\n",
    "import warnings\n",
    "warnings.filterwarnings('ignore')\n",
    "export_parallel = True\n",
    "use_graph = False"
   ]
  },
  {
   "cell_type": "code",
   "execution_count": 2284,
   "metadata": {
    "pycharm": {
     "is_executing": false,
     "name": "#%% \n"
    }
   },
   "outputs": [
    {
     "name": "stdout",
     "text": [
      "(2074, 3782)\n"
     ],
     "output_type": "stream"
    }
   ],
   "source": [
    "# Исходное изображение до наложения шума\n",
    "image = cv2.cvtColor(cv2.imread(\"data/night_city.jpg\"), cv2.COLOR_BGR2GRAY)\n",
    "print(image.shape)\n",
    "\n",
    "images_noised = {}\n",
    "\n",
    "# Общая для всех зашумлённость\n",
    "amount = 0.2\n",
    "var = 0.2\n",
    "mean = 0.0\n",
    "lam = 20.0"
   ]
  },
  {
   "cell_type": "code",
   "execution_count": 2285,
   "metadata": {
    "pycharm": {
     "is_executing": false,
     "name": "#%%\n"
    }
   },
   "outputs": [],
   "source": [
    "# Исходное изображение до наложения шума\n",
    "if use_graph:\n",
    "    figure(figsize=(32, 16), dpi=80)\n",
    "    plt.imshow(cv2.cvtColor(image, cv2.COLOR_GRAY2RGB))\n",
    "    plt.xticks([]),plt.yticks([])\n",
    "    plt.show()"
   ]
  },
  {
   "cell_type": "markdown",
   "metadata": {
    "pycharm": {
     "name": "#%% md\n"
    }
   },
   "source": [
    "**Импульсный шум**\n",
    "\n",
    "При импульсном шуме сигнал искажается выбросами с очень\n",
    "большими отрицательными или положительными значениями малой длительностью и может возникать, например, из-за ошибок\n",
    "декодирования. Такой шум приводит к появлению на изображении белых («соль») или черных («перец») точек, поэтому зачастую\n",
    "называется точечным шумом. Для его описания следует принять\n",
    "во внимание тот факт, что появление шумового выброса в каждом\n",
    "пикселе 𝐼(𝑥,𝑦) не зависит ни от качества исходного изображения, ни\n",
    "от наличия шума в других точках и имеет вероятность появления\n",
    "𝑝, причем значение интенсивности пикселя 𝐼(𝑥,𝑦) будет изменено\n",
    "на значение 𝑑 ∈ [0,255]"
   ]
  },
  {
   "cell_type": "code",
   "execution_count": 2286,
   "metadata": {
    "pycharm": {
     "is_executing": false,
     "name": "#%%\n"
    }
   },
   "outputs": [],
   "source": [
    "# Наложение импульсного шума\n",
    "image_noised_s_and_p = skimage.util.random_noise(image, mode=\"s&p\", amount=amount, salt_vs_pepper=0.3)\n",
    "image_noised_s_and_p = np.clip(image_noised_s_and_p, 0.0, 1.0)\n",
    "image_noised_s_and_p = skimage.img_as_ubyte(image_noised_s_and_p)\n",
    "images_noised[\"salt and pepper\"] = image_noised_s_and_p.copy()\n",
    "\n",
    "image_noised_all = image_noised_s_and_p\n",
    "\n",
    "# Изображение после наложения импульсного шума\n",
    "if use_graph:\n",
    "    figure(figsize=(32, 16), dpi=80)\n",
    "    plt.imshow(cv2.cvtColor(image_noised_s_and_p, cv2.COLOR_GRAY2RGB))\n",
    "    plt.xticks([]),plt.yticks([])\n",
    "    plt.show()"
   ]
  },
  {
   "cell_type": "markdown",
   "metadata": {},
   "source": [
    "**Аддитивный шум**\n",
    "\n",
    "Аддитивный шум описывается следующим выражением:\n",
    "\n",
    "𝐼𝑛𝑒𝑤(𝑥,𝑦) = 𝐼(𝑥,𝑦) + 𝜂(𝑥,𝑦),\n",
    "\n",
    "где 𝐼𝑛𝑒𝑤 — зашумленное изображение, \n",
    "𝐼 — исходное изображение,\n",
    "𝜂 — не зависящий от сигнала аддитивный шум с гауссовым или\n",
    "любым другим распределением функции плотности вероятности."
   ]
  },
  {
   "cell_type": "markdown",
   "metadata": {},
   "source": [
    "**Мультипликативный шум**\n",
    "\n",
    "Мультипликативный шум описывается следующим выражением:\n",
    "\n",
    "𝐼𝑛𝑒𝑤(𝑥,𝑦) = 𝐼(𝑥,𝑦) · 𝜂(𝑥,𝑦),\n",
    "\n",
    "где 𝐼𝑛𝑒𝑤 — зашумленное изображение, 𝐼 — исходное изображение, 𝜂\n",
    "— не зависящий от сигнала мультипликативный шум, умножающий\n",
    "зарегистрированный сигнал. В качестве примера можно привести \n",
    "зернистость фотопленки, ультразвуковые изображения и т.д. Частным случаем мультипликативного шума является спекл-шум, \n",
    "который появляется на изображениях, полученных устройствами с когерентным формированием изображений, например, \n",
    "медицинскими\n",
    "сканерами или радарами. На таких изображениях можно отчетливо\n",
    "наблюдать светлые пятна, крапинки (спеклы), которые разделены\n",
    "темными участками изображения."
   ]
  },
  {
   "cell_type": "code",
   "execution_count": 2287,
   "metadata": {
    "pycharm": {
     "is_executing": false,
     "name": "#%%\n"
    }
   },
   "outputs": [],
   "source": [
    "# Наложение мультипликативного шума\n",
    "image_noised_multi = skimage.util.random_noise(image, mode=\"speckle\", var=var, mean=mean)\n",
    "image_noised_multi = np.clip(image_noised_multi, 0.0, 1.0)\n",
    "image_noised_multi = skimage.img_as_ubyte(image_noised_multi)\n",
    "images_noised[\"speckle\"] = image_noised_multi.copy()\n",
    "\n",
    "image_noised_all = skimage.util.random_noise(image_noised_all, mode=\"speckle\", var=var, mean=mean)\n",
    "image_noised_all = np.clip(image_noised_all, 0.0, 1.0)\n",
    "image_noised_all = skimage.img_as_ubyte(image_noised_all)\n",
    "\n",
    "# Изображение после наложения мультипликативного шума\n",
    "if use_graph:\n",
    "    figure(figsize=(32, 16), dpi=80)\n",
    "    plt.imshow(cv2.cvtColor(image_noised_multi, cv2.COLOR_GRAY2RGB))\n",
    "    plt.xticks([]),plt.yticks([])\n",
    "    plt.show()"
   ]
  },
  {
   "cell_type": "markdown",
   "metadata": {},
   "source": [
    "**Гауссов (нормальный) шум**\n",
    "\n",
    "Гауссов шум на изображении может возникать в следствие недостатка освещенности сцены, высокой температуры и т.д. \n",
    "Модель шума широко распространена в задачах низкочастотной фильтрации изображений. "
   ]
  },
  {
   "cell_type": "code",
   "execution_count": 2288,
   "metadata": {
    "pycharm": {
     "is_executing": false,
     "name": "#%%\n"
    }
   },
   "outputs": [],
   "source": [
    "# Наложение Гауссова шума\n",
    "image_noised_gaussian = skimage.util.random_noise(image, mode=\"gaussian\", var=var, mean=mean)\n",
    "image_noised_gaussian = np.clip(image_noised_gaussian, 0.0, 1.0)\n",
    "image_noised_gaussian = skimage.img_as_ubyte(image_noised_gaussian)\n",
    "images_noised[\"gaussian\"] = image_noised_gaussian.copy()\n",
    "\n",
    "image_noised_all = skimage.util.random_noise(image_noised_all, mode=\"gaussian\", var=var, mean=mean)\n",
    "image_noised_all = np.clip(image_noised_all, 0.0, 1.0)\n",
    "image_noised_all = skimage.img_as_ubyte(image_noised_all)\n",
    "\n",
    "# Изображение после наложения Гауссова шума\n",
    "if use_graph:\n",
    "    figure(figsize=(32, 16), dpi=80)\n",
    "    plt.imshow(cv2.cvtColor(image_noised_gaussian, cv2.COLOR_GRAY2RGB))\n",
    "    plt.xticks([]),plt.yticks([])\n",
    "    plt.show()"
   ]
  },
  {
   "cell_type": "markdown",
   "metadata": {},
   "source": [
    "**Шум квантования**\n",
    "\n",
    "Зависит от выбранного шага квантования и самого сигнала.\n",
    "Шум квантования может приводить, например, к появлению ложных контуров вокруг объектов или убирать слабо \n",
    "контрастные детали на изображении. Такой шум не устраняется. Приближенно\n",
    "шум квантования можно описать распределением Пуассона"
   ]
  },
  {
   "cell_type": "code",
   "execution_count": 2289,
   "metadata": {
    "pycharm": {
     "is_executing": false,
     "name": "#%%\n"
    }
   },
   "outputs": [],
   "source": [
    "# Создание шума квантования с заданными параметрами распределения Пуассона\n",
    "noise_poisson = np.random.poisson(lam=lam, size=image.shape) * (1.0 / 255.0)\n",
    "noise_poisson = np.clip(noise_poisson, 1.0 / 255.0, 1.0)\n",
    "\n",
    "# Наложение шума квантования\n",
    "image_noised_poisson = skimage.util.random_noise(image, mode=\"localvar\", local_vars=noise_poisson)\n",
    "image_noised_poisson = np.clip(image_noised_poisson, 0.0, 1.0)\n",
    "image_noised_poisson = skimage.img_as_ubyte(image_noised_poisson)\n",
    "images_noised[\"poisson\"] = image_noised_poisson.copy()\n",
    "\n",
    "image_noised_all = skimage.util.random_noise(image_noised_all, mode=\"localvar\", local_vars=noise_poisson)\n",
    "image_noised_all = np.clip(image_noised_all, 0.0, 1.0)\n",
    "image_noised_all = skimage.img_as_ubyte(image_noised_all)\n",
    "\n",
    "# Изображение после наложения шума квантования\n",
    "if use_graph:\n",
    "    figure(figsize=(32, 16), dpi=80)\n",
    "    plt.imshow(cv2.cvtColor(image_noised_poisson, cv2.COLOR_GRAY2RGB))\n",
    "    plt.xticks([]),plt.yticks([])\n",
    "    plt.show()"
   ]
  },
  {
   "cell_type": "code",
   "execution_count": 2290,
   "metadata": {
    "pycharm": {
     "is_executing": false,
     "name": "#%%\n"
    }
   },
   "outputs": [],
   "source": [
    "# Изображение после наложения всех шумов\n",
    "if use_graph:\n",
    "    figure(figsize=(32, 16), dpi=80)\n",
    "    plt.imshow(cv2.cvtColor(image_noised_all, cv2.COLOR_GRAY2RGB))\n",
    "    plt.xticks([]),plt.yticks([])\n",
    "    plt.show()"
   ]
  },
  {
   "cell_type": "markdown",
   "metadata": {
    "pycharm": {
     "is_executing": false,
     "name": "#%% md\n"
    }
   },
   "source": [
    "### 2 Низкочастотная фильтрация\n",
    "\n",
    "Низкочастотные пространственные фильтры ослабляют высокочастотные компоненты (области с сильным изменением интенсивностей) и оставляют низкочастотные компоненты изображения\n",
    "без изменений. Используются для снижения уровня шума и удаления высокочастотных компонент, что позволяет повысить точность\n",
    "исследования содержания низкочастотных компонент. В результате применения низкочастотных фильтров получим сглаженное или\n",
    "размытое изображение. Главными отличительными особенностями\n",
    "являются:\n",
    "\n",
    "1. неотрицательные коэффициенты маски;\n",
    "\n",
    "2. сумма всех коэффициентов равна единице.\n",
    "\n",
    "### 2.1 Фильтр Гаусса"
   ]
  },
  {
   "cell_type": "code",
   "source": [
    "# Применеие фильтра Гаусса ко всем зашумлённым изображениям\n",
    "if use_graph:\n",
    "    image_combined = None\n",
    "    for image_name in images_noised.keys():\n",
    "        print(image_name)\n",
    "        image_filtered = skimage.filters.gaussian(images_noised[image_name], sigma=4.0)\n",
    "        image_filtered = np.clip(image_filtered, 0.0, 1.0)\n",
    "        image_filtered = skimage.img_as_ubyte(image_filtered)\n",
    "        image_filtered = cv2.hconcat([images_noised[image_name], image_filtered])\n",
    "        if image_combined is None:\n",
    "            image_combined = image_filtered\n",
    "        else:\n",
    "            image_combined = cv2.vconcat([image_combined, image_filtered])\n",
    "    figure(figsize=(32, 16), dpi=80)\n",
    "    plt.imshow(cv2.cvtColor(image_combined, cv2.COLOR_GRAY2RGB))\n",
    "    plt.xticks([]),plt.yticks([])\n",
    "    plt.show()"
   ],
   "metadata": {
    "collapsed": false,
    "pycharm": {
     "name": "#%%\n",
     "is_executing": false
    }
   },
   "execution_count": 2291,
   "outputs": []
  },
  {
   "cell_type": "markdown",
   "source": [
    "### 2.2 Контргармонический усредняющий фильтр с различными значениями параметра 𝑄"
   ],
   "metadata": {
    "collapsed": false
   }
  },
  {
   "cell_type": "code",
   "execution_count": 2292,
   "outputs": [],
   "source": [
    "def counter_harmonic_mean_filter(image, kernel_size=3, Q=0):\n",
    "    rows, cols = image.shape\n",
    "    kernel_mid = kernel_size // 2\n",
    "    kernel_k = 1 / pow(kernel_size, 2.0)\n",
    "    \n",
    "    image_bordered = cv2.copyMakeBorder(\n",
    "        image,\n",
    "        top=kernel_size // 2,\n",
    "        bottom=kernel_size // 2 + kernel_size % 2,\n",
    "        left=kernel_size // 2,\n",
    "        right=kernel_size // 2 + kernel_size % 2,\n",
    "        borderType=cv2.BORDER_REPLICATE,\n",
    "        value=[mean, mean, mean]\n",
    "    )\n",
    "    \n",
    "    image_float = np.clip(image / 255.0, 0.0, 1.0)\n",
    "    image_bordered_float = np.zeros_like(image_bordered, dtype=np.float64)\n",
    "    \n",
    "    image_float_power = []\n",
    "    for q in range(2):\n",
    "        image_float_power.append(np.power(image_float, Q + q))\n",
    "        image_float_power[q] = np.clip(image_float_power[q], 0.0, 10)\n",
    "    for y in range(-kernel_mid, kernel_mid + kernel_size % 2):\n",
    "        for x in range(-kernel_mid, kernel_mid + kernel_size % 2):\n",
    "            image_bordered_float[kernel_mid + y:kernel_mid + rows + y,\n",
    "            kernel_mid + x:kernel_mid + cols + x] += kernel_k * image_float_power[1] / image_float_power[0]\n",
    "    image_bordered_float = np.clip(image_bordered_float, 0.0, 1.0)\n",
    "    image = image_bordered_float[kernel_mid:rows+kernel_mid, kernel_mid:cols+kernel_mid] * 255.0\n",
    "    return image.astype(np.uint8)"
   ],
   "metadata": {
    "collapsed": false,
    "pycharm": {
     "name": "#%%\n",
     "is_executing": false
    }
   }
  },
  {
   "cell_type": "code",
   "execution_count": 2293,
   "outputs": [
    {
     "name": "stdout",
     "text": [
      "Q = -1.5\n"
     ],
     "output_type": "stream"
    }
   ],
   "source": [
    "kernel_size = 7\n",
    "Q = -1.5\n",
    "# Применеие Контргармонического усредняющего фильтра с различными значениями параметра 𝑄 \n",
    "# ко всем зашумлённым изображениям\n",
    "print(f\"Q = {Q}\")\n",
    "if use_graph:\n",
    "    image_combined = None\n",
    "    for image_name in images_noised.keys():\n",
    "        print(image_name, end=', ')\n",
    "        image_filtered = counter_harmonic_mean_filter(images_noised[image_name], kernel_size=kernel_size, Q=Q)\n",
    "        image_filtered = cv2.hconcat([images_noised[image_name], image_filtered])\n",
    "        if image_combined is None:\n",
    "            image_combined = image_filtered\n",
    "        else:\n",
    "            image_combined = cv2.vconcat([image_combined, image_filtered])\n",
    "    print()\n",
    "    figure(figsize=(32, 16), dpi=80)\n",
    "    plt.imshow(cv2.cvtColor(image_combined, cv2.COLOR_GRAY2RGB))\n",
    "    plt.xticks([]),plt.yticks([])\n",
    "    plt.show()"
   ],
   "metadata": {
    "collapsed": false,
    "pycharm": {
     "name": "#%%\n",
     "is_executing": false
    }
   }
  },
  {
   "cell_type": "code",
   "execution_count": 2294,
   "outputs": [
    {
     "name": "stdout",
     "text": [
      "Q = -1.25\n"
     ],
     "output_type": "stream"
    }
   ],
   "source": [
    "Q = -1.25\n",
    "# Применеие Контргармонического усредняющего фильтра с различными значениями параметра 𝑄 \n",
    "# ко всем зашумлённым изображениям\n",
    "print(f\"Q = {Q}\")\n",
    "if use_graph:\n",
    "    image_combined = None\n",
    "    for image_name in images_noised.keys():\n",
    "        print(image_name, end=', ')\n",
    "        image_filtered = counter_harmonic_mean_filter(images_noised[image_name], kernel_size=kernel_size, Q=Q)\n",
    "        image_filtered = cv2.hconcat([images_noised[image_name], image_filtered])\n",
    "        if image_combined is None:\n",
    "            image_combined = image_filtered\n",
    "        else:\n",
    "            image_combined = cv2.vconcat([image_combined, image_filtered])\n",
    "    print()\n",
    "    figure(figsize=(32, 16), dpi=80)\n",
    "    plt.imshow(cv2.cvtColor(image_combined, cv2.COLOR_GRAY2RGB))\n",
    "    plt.xticks([]),plt.yticks([])\n",
    "    plt.show()"
   ],
   "metadata": {
    "collapsed": false,
    "pycharm": {
     "name": "#%%\n",
     "is_executing": false
    }
   }
  },
  {
   "cell_type": "code",
   "execution_count": 2295,
   "outputs": [
    {
     "name": "stdout",
     "text": [
      "Q = -1.0\n"
     ],
     "output_type": "stream"
    }
   ],
   "source": [
    "Q = -1.0\n",
    "# Применеие Контргармонического усредняющего фильтра с различными значениями параметра 𝑄 \n",
    "# ко всем зашумлённым изображениям\n",
    "print(f\"Q = {Q}\")\n",
    "if use_graph:\n",
    "    image_combined = None\n",
    "    for image_name in images_noised.keys():\n",
    "        print(image_name, end=', ')\n",
    "        image_filtered = counter_harmonic_mean_filter(images_noised[image_name], kernel_size=kernel_size, Q=Q)\n",
    "        image_filtered = cv2.hconcat([images_noised[image_name], image_filtered])\n",
    "        if image_combined is None:\n",
    "            image_combined = image_filtered\n",
    "        else:\n",
    "            image_combined = cv2.vconcat([image_combined, image_filtered])\n",
    "    print()\n",
    "    figure(figsize=(32, 16), dpi=80)\n",
    "    plt.imshow(cv2.cvtColor(image_combined, cv2.COLOR_GRAY2RGB))\n",
    "    plt.xticks([]),plt.yticks([])\n",
    "    plt.show()"
   ],
   "metadata": {
    "collapsed": false,
    "pycharm": {
     "name": "#%%\n",
     "is_executing": false
    }
   }
  },
  {
   "cell_type": "code",
   "execution_count": 2296,
   "outputs": [
    {
     "name": "stdout",
     "text": [
      "Q = -0.75\n"
     ],
     "output_type": "stream"
    }
   ],
   "source": [
    "Q = -0.75\n",
    "# Применеие Контргармонического усредняющего фильтра с различными значениями параметра 𝑄 \n",
    "# ко всем зашумлённым изображениям\n",
    "print(f\"Q = {Q}\")\n",
    "if use_graph:\n",
    "    image_combined = None\n",
    "    for image_name in images_noised.keys():\n",
    "        print(image_name, end=', ')\n",
    "        image_filtered = counter_harmonic_mean_filter(images_noised[image_name], kernel_size=kernel_size, Q=Q)\n",
    "        image_filtered = cv2.hconcat([images_noised[image_name], image_filtered])\n",
    "        if image_combined is None:\n",
    "            image_combined = image_filtered\n",
    "        else:\n",
    "            image_combined = cv2.vconcat([image_combined, image_filtered])\n",
    "    print()\n",
    "    figure(figsize=(32, 16), dpi=80)\n",
    "    plt.imshow(cv2.cvtColor(image_combined, cv2.COLOR_GRAY2RGB))\n",
    "    plt.xticks([]),plt.yticks([])\n",
    "    plt.show()"
   ],
   "metadata": {
    "collapsed": false,
    "pycharm": {
     "name": "#%%\n",
     "is_executing": false
    }
   }
  },
  {
   "cell_type": "code",
   "execution_count": 2297,
   "outputs": [
    {
     "name": "stdout",
     "text": [
      "Q = -0.5\n"
     ],
     "output_type": "stream"
    }
   ],
   "source": [
    "Q = -0.5\n",
    "# Применеие Контргармонического усредняющего фильтра с различными значениями параметра 𝑄 \n",
    "# ко всем зашумлённым изображениям\n",
    "print(f\"Q = {Q}\")\n",
    "if use_graph:\n",
    "    image_combined = None\n",
    "    for image_name in images_noised.keys():\n",
    "        print(image_name, end=', ')\n",
    "        image_filtered = counter_harmonic_mean_filter(images_noised[image_name], kernel_size=kernel_size, Q=Q)\n",
    "        image_filtered = cv2.hconcat([images_noised[image_name], image_filtered])\n",
    "        if image_combined is None:\n",
    "            image_combined = image_filtered\n",
    "        else:\n",
    "            image_combined = cv2.vconcat([image_combined, image_filtered])\n",
    "    print()\n",
    "    figure(figsize=(32, 16), dpi=80)\n",
    "    plt.imshow(cv2.cvtColor(image_combined, cv2.COLOR_GRAY2RGB))\n",
    "    plt.xticks([]),plt.yticks([])\n",
    "    plt.show()"
   ],
   "metadata": {
    "collapsed": false,
    "pycharm": {
     "name": "#%%\n",
     "is_executing": false
    }
   }
  },
  {
   "cell_type": "code",
   "execution_count": 2298,
   "outputs": [
    {
     "name": "stdout",
     "text": [
      "Q = -0.25\n"
     ],
     "output_type": "stream"
    }
   ],
   "source": [
    "Q = -0.25\n",
    "# Применеие Контргармонического усредняющего фильтра с различными значениями параметра 𝑄 \n",
    "# ко всем зашумлённым изображениям\n",
    "print(f\"Q = {Q}\")\n",
    "if use_graph:\n",
    "    image_combined = None\n",
    "    for image_name in images_noised.keys():\n",
    "        print(image_name, end=', ')\n",
    "        image_filtered = counter_harmonic_mean_filter(images_noised[image_name], kernel_size=kernel_size, Q=Q)\n",
    "        image_filtered = cv2.hconcat([images_noised[image_name], image_filtered])\n",
    "        if image_combined is None:\n",
    "            image_combined = image_filtered\n",
    "        else:\n",
    "            image_combined = cv2.vconcat([image_combined, image_filtered])\n",
    "    print()\n",
    "    figure(figsize=(32, 16), dpi=80)\n",
    "    plt.imshow(cv2.cvtColor(image_combined, cv2.COLOR_GRAY2RGB))\n",
    "    plt.xticks([]),plt.yticks([])\n",
    "    plt.show()"
   ],
   "metadata": {
    "collapsed": false,
    "pycharm": {
     "name": "#%%\n",
     "is_executing": false
    }
   }
  },
  {
   "cell_type": "code",
   "execution_count": 2299,
   "outputs": [
    {
     "name": "stdout",
     "text": [
      "Q = 0.0\n"
     ],
     "output_type": "stream"
    }
   ],
   "source": [
    "Q = 0.0\n",
    "# Применеие Контргармонического усредняющего фильтра с различными значениями параметра 𝑄 \n",
    "# ко всем зашумлённым изображениям\n",
    "print(f\"Q = {Q}\")\n",
    "if use_graph:\n",
    "    image_combined = None\n",
    "    for image_name in images_noised.keys():\n",
    "        print(image_name, end=', ')\n",
    "        image_filtered = counter_harmonic_mean_filter(images_noised[image_name], kernel_size=kernel_size, Q=Q)\n",
    "        image_filtered = cv2.hconcat([images_noised[image_name], image_filtered])\n",
    "        if image_combined is None:\n",
    "            image_combined = image_filtered\n",
    "        else:\n",
    "            image_combined = cv2.vconcat([image_combined, image_filtered])\n",
    "    print()\n",
    "    figure(figsize=(32, 16), dpi=80)\n",
    "    plt.imshow(cv2.cvtColor(image_combined, cv2.COLOR_GRAY2RGB))\n",
    "    plt.xticks([]),plt.yticks([])\n",
    "    plt.show()"
   ],
   "metadata": {
    "collapsed": false,
    "pycharm": {
     "name": "#%%\n",
     "is_executing": false
    }
   }
  },
  {
   "cell_type": "code",
   "execution_count": 2300,
   "outputs": [
    {
     "name": "stdout",
     "text": [
      "Q = 0.25\n"
     ],
     "output_type": "stream"
    }
   ],
   "source": [
    "Q = 0.25\n",
    "# Применеие Контргармонического усредняющего фильтра с различными значениями параметра 𝑄 \n",
    "# ко всем зашумлённым изображениям\n",
    "print(f\"Q = {Q}\")\n",
    "if use_graph:\n",
    "    image_combined = None\n",
    "    for image_name in images_noised.keys():\n",
    "        print(image_name, end=', ')\n",
    "        image_filtered = counter_harmonic_mean_filter(images_noised[image_name], kernel_size=kernel_size, Q=Q)\n",
    "        image_filtered = cv2.hconcat([images_noised[image_name], image_filtered])\n",
    "        if image_combined is None:\n",
    "            image_combined = image_filtered\n",
    "        else:\n",
    "            image_combined = cv2.vconcat([image_combined, image_filtered])\n",
    "    print()\n",
    "    figure(figsize=(32, 16), dpi=80)\n",
    "    plt.imshow(cv2.cvtColor(image_combined, cv2.COLOR_GRAY2RGB))\n",
    "    plt.xticks([]),plt.yticks([])\n",
    "    plt.show()"
   ],
   "metadata": {
    "collapsed": false,
    "pycharm": {
     "name": "#%%\n",
     "is_executing": false
    }
   }
  },
  {
   "cell_type": "code",
   "execution_count": 2301,
   "outputs": [
    {
     "name": "stdout",
     "text": [
      "Q = 0.5\n"
     ],
     "output_type": "stream"
    }
   ],
   "source": [
    "Q = 0.5\n",
    "# Применеие Контргармонического усредняющего фильтра с различными значениями параметра 𝑄 \n",
    "# ко всем зашумлённым изображениям\n",
    "print(f\"Q = {Q}\")\n",
    "if use_graph:\n",
    "    image_combined = None\n",
    "    for image_name in images_noised.keys():\n",
    "        print(image_name, end=', ')\n",
    "        image_filtered = counter_harmonic_mean_filter(images_noised[image_name], kernel_size=kernel_size, Q=Q)\n",
    "        image_filtered = cv2.hconcat([images_noised[image_name], image_filtered])\n",
    "        if image_combined is None:\n",
    "            image_combined = image_filtered\n",
    "        else:\n",
    "            image_combined = cv2.vconcat([image_combined, image_filtered])\n",
    "    print()\n",
    "    figure(figsize=(32, 16), dpi=80)\n",
    "    plt.imshow(cv2.cvtColor(image_combined, cv2.COLOR_GRAY2RGB))\n",
    "    plt.xticks([]),plt.yticks([])\n",
    "    plt.show()"
   ],
   "metadata": {
    "collapsed": false,
    "pycharm": {
     "name": "#%%\n",
     "is_executing": false
    }
   }
  },
  {
   "cell_type": "code",
   "execution_count": 2302,
   "outputs": [
    {
     "name": "stdout",
     "text": [
      "Q = 0.75\n"
     ],
     "output_type": "stream"
    }
   ],
   "source": [
    "Q = 0.75\n",
    "# Применеие Контргармонического усредняющего фильтра с различными значениями параметра 𝑄 \n",
    "# ко всем зашумлённым изображениям\n",
    "print(f\"Q = {Q}\")\n",
    "if use_graph:\n",
    "    image_combined = None\n",
    "    for image_name in images_noised.keys():\n",
    "        print(image_name, end=', ')\n",
    "        image_filtered = counter_harmonic_mean_filter(images_noised[image_name], kernel_size=kernel_size, Q=Q)\n",
    "        image_filtered = cv2.hconcat([images_noised[image_name], image_filtered])\n",
    "        if image_combined is None:\n",
    "            image_combined = image_filtered\n",
    "        else:\n",
    "            image_combined = cv2.vconcat([image_combined, image_filtered])\n",
    "    print()\n",
    "    figure(figsize=(32, 16), dpi=80)\n",
    "    plt.imshow(cv2.cvtColor(image_combined, cv2.COLOR_GRAY2RGB))\n",
    "    plt.xticks([]),plt.yticks([])\n",
    "    plt.show()"
   ],
   "metadata": {
    "collapsed": false,
    "pycharm": {
     "name": "#%%\n",
     "is_executing": false
    }
   }
  },
  {
   "cell_type": "code",
   "execution_count": 2303,
   "outputs": [
    {
     "name": "stdout",
     "text": [
      "Q = 1.0\n"
     ],
     "output_type": "stream"
    }
   ],
   "source": [
    "Q = 1.0\n",
    "# Применеие Контргармонического усредняющего фильтра с различными значениями параметра 𝑄 \n",
    "# ко всем зашумлённым изображениям\n",
    "print(f\"Q = {Q}\")\n",
    "if use_graph:\n",
    "    image_combined = None\n",
    "    for image_name in images_noised.keys():\n",
    "        print(image_name, end=', ')\n",
    "        image_filtered = counter_harmonic_mean_filter(images_noised[image_name], kernel_size=kernel_size, Q=Q)\n",
    "        image_filtered = cv2.hconcat([images_noised[image_name], image_filtered])\n",
    "        if image_combined is None:\n",
    "            image_combined = image_filtered\n",
    "        else:\n",
    "            image_combined = cv2.vconcat([image_combined, image_filtered])\n",
    "    print()\n",
    "    figure(figsize=(32, 16), dpi=80)\n",
    "    plt.imshow(cv2.cvtColor(image_combined, cv2.COLOR_GRAY2RGB))\n",
    "    plt.xticks([]),plt.yticks([])\n",
    "    plt.show()"
   ],
   "metadata": {
    "collapsed": false,
    "pycharm": {
     "name": "#%%\n",
     "is_executing": false
    }
   }
  },
  {
   "cell_type": "code",
   "execution_count": 2304,
   "outputs": [
    {
     "name": "stdout",
     "text": [
      "Q = 1.25\n"
     ],
     "output_type": "stream"
    }
   ],
   "source": [
    "Q = 1.25\n",
    "# Применеие Контргармонического усредняющего фильтра с различными значениями параметра 𝑄 \n",
    "# ко всем зашумлённым изображениям\n",
    "print(f\"Q = {Q}\")\n",
    "if use_graph:\n",
    "    image_combined = None\n",
    "    for image_name in images_noised.keys():\n",
    "        print(image_name, end=', ')\n",
    "        image_filtered = counter_harmonic_mean_filter(images_noised[image_name], kernel_size=kernel_size, Q=Q)\n",
    "        image_filtered = cv2.hconcat([images_noised[image_name], image_filtered])\n",
    "        if image_combined is None:\n",
    "            image_combined = image_filtered\n",
    "        else:\n",
    "            image_combined = cv2.vconcat([image_combined, image_filtered])\n",
    "    print()\n",
    "    figure(figsize=(32, 16), dpi=80)\n",
    "    plt.imshow(cv2.cvtColor(image_combined, cv2.COLOR_GRAY2RGB))\n",
    "    plt.xticks([]),plt.yticks([])\n",
    "    plt.show()"
   ],
   "metadata": {
    "collapsed": false,
    "pycharm": {
     "name": "#%%\n",
     "is_executing": false
    }
   }
  },
  {
   "cell_type": "code",
   "execution_count": 2305,
   "outputs": [
    {
     "name": "stdout",
     "text": [
      "Q = 1.5\n"
     ],
     "output_type": "stream"
    }
   ],
   "source": [
    "Q = 1.5\n",
    "# Применеие Контргармонического усредняющего фильтра с различными значениями параметра 𝑄 \n",
    "# ко всем зашумлённым изображениям\n",
    "print(f\"Q = {Q}\")\n",
    "if use_graph:\n",
    "    image_combined = None\n",
    "    for image_name in images_noised.keys():\n",
    "        print(image_name, end=', ')\n",
    "        image_filtered = counter_harmonic_mean_filter(images_noised[image_name], kernel_size=kernel_size, Q=Q)\n",
    "        image_filtered = cv2.hconcat([images_noised[image_name], image_filtered])\n",
    "        if image_combined is None:\n",
    "            image_combined = image_filtered\n",
    "        else:\n",
    "            image_combined = cv2.vconcat([image_combined, image_filtered])\n",
    "    print()\n",
    "    figure(figsize=(32, 16), dpi=80)\n",
    "    plt.imshow(cv2.cvtColor(image_combined, cv2.COLOR_GRAY2RGB))\n",
    "    plt.xticks([]),plt.yticks([])\n",
    "    plt.show()"
   ],
   "metadata": {
    "collapsed": false,
    "pycharm": {
     "name": "#%%\n",
     "is_executing": false
    }
   }
  },
  {
   "cell_type": "markdown",
   "source": [
    "### 3 Нелинейная фильтрация.\n",
    "\n",
    "Низкочастотные фильтры линейны и оптимальны в случае, когда имеет место нормальное распределение помех на цифровом\n",
    "изображении. Линейные фильтры локально усредняют импульсные\n",
    "помехи, сглаживая изображения. Для устранения импульсных помех лучше использовать нелинейные, например, медианные фильтры.\n",
    "\n",
    "### 3.1 Медианный фильтр"
   ],
   "metadata": {
    "collapsed": false
   }
  },
  {
   "cell_type": "code",
   "execution_count": 2306,
   "outputs": [
    {
     "name": "stdout",
     "text": [
      "[[1. 1. 1. 1. 1. 1. 1. 1. 1. 1. 1.]\n [1. 1. 1. 1. 1. 1. 1. 1. 1. 1. 1.]\n [1. 1. 1. 1. 1. 1. 1. 1. 1. 1. 1.]\n [1. 1. 1. 1. 1. 1. 1. 1. 1. 1. 1.]\n [1. 1. 1. 1. 1. 1. 1. 1. 1. 1. 1.]\n [1. 1. 1. 1. 1. 1. 1. 1. 1. 1. 1.]\n [1. 1. 1. 1. 1. 1. 1. 1. 1. 1. 1.]\n [1. 1. 1. 1. 1. 1. 1. 1. 1. 1. 1.]\n [1. 1. 1. 1. 1. 1. 1. 1. 1. 1. 1.]\n [1. 1. 1. 1. 1. 1. 1. 1. 1. 1. 1.]\n [1. 1. 1. 1. 1. 1. 1. 1. 1. 1. 1.]]\n"
     ],
     "output_type": "stream"
    }
   ],
   "source": [
    "kernel = np.ones((11,11),np.float64)\n",
    "print(kernel)\n",
    "if use_graph:\n",
    "    image_combined = None\n",
    "    for image_name in images_noised.keys():\n",
    "        print(image_name, end=', ')\n",
    "        image_filtered = scipy.ndimage.median_filter(images_noised[image_name], footprint=kernel)\n",
    "        image_filtered = cv2.hconcat([images_noised[image_name], image_filtered])\n",
    "        if image_combined is None:\n",
    "            image_combined = image_filtered\n",
    "        else:\n",
    "            image_combined = cv2.vconcat([image_combined, image_filtered])\n",
    "    print()\n",
    "    figure(figsize=(32, 16), dpi=80)\n",
    "    plt.imshow(cv2.cvtColor(image_combined, cv2.COLOR_GRAY2RGB))\n",
    "    plt.xticks([]),plt.yticks([])\n",
    "    plt.show()"
   ],
   "metadata": {
    "collapsed": false,
    "pycharm": {
     "name": "#%%\n",
     "is_executing": false
    }
   }
  },
  {
   "cell_type": "markdown",
   "source": [
    "### 3.2 Взвешенный медианный фильтр"
   ],
   "metadata": {
    "collapsed": false
   }
  },
  {
   "cell_type": "code",
   "execution_count": 2307,
   "outputs": [
    {
     "name": "stdout",
     "text": [
      "[[0.64615637 0.26977317 0.7749899  0.56432424 0.47330154 0.45347919\n  0.26698036 0.4790399  0.26517087 0.75194751 0.68216014]\n [0.26085918 0.85150096 0.32871482 0.20020641 0.33565366 0.38220901\n  0.1470468  0.9037262  0.19183328 0.86404635 0.54162431]\n [0.20642388 0.97068014 0.9702673  0.76154346 0.54065638 0.1414458\n  0.23206408 0.94983336 0.26998171 0.59466407 0.81595462]\n [0.29173326 0.89623383 0.13177004 0.19992196 0.63610602 0.57974774\n  0.33252451 1.         0.92632545 0.1733901  0.33820014]\n [0.88891459 0.07538242 0.85431183 0.736838   0.87911273 0.40698161\n  0.23919947 0.1592842  0.21949358 0.39685837 0.44467035]\n [0.21141293 0.57103085 0.1923683  0.76570725 0.39507131 0.26014308\n  0.57052446 0.6553527  0.11486183 0.77337701 0.08649739]\n [0.62964108 0.50512294 0.1604947  0.02084639 0.59740375 0.87129288\n  0.79912102 0.2819659  0.08016646 0.24369918 0.3384817 ]\n [0.24876532 0.51251902 0.08373699 0.50007221 0.54249013 0.96438031\n  0.58058421 0.94884031 0.69452861 0.32479593 0.3939336 ]\n [0.65609395 0.00671739 0.58306723 0.1796031  0.41302644 0.20035137\n  0.41230843 0.99749421 0.06466909 0.09851718 0.21129353]\n [0.01095428 0.88457886 0.53332949 0.22414351 0.43052721 0.23054912\n  0.09345336 0.46543413 0.4933146  0.59926671 0.93439677]\n [0.32965151 0.90334873 0.06792043 0.53934096 0.93035878 0.27939736\n  0.47238612 0.85087762 0.25932588 0.82173022 0.71922113]]\n"
     ],
     "output_type": "stream"
    }
   ],
   "source": [
    "kernel = np.random.random(size=(11,11))\n",
    "kernel /= np.max(kernel)\n",
    "print(kernel)\n",
    "if use_graph:\n",
    "    image_combined = None\n",
    "    for image_name in images_noised.keys():\n",
    "        print(image_name, end=', ')\n",
    "        image_filtered = scipy.ndimage.median_filter(images_noised[image_name], footprint=kernel)\n",
    "        image_filtered = cv2.hconcat([images_noised[image_name], image_filtered])\n",
    "        if image_combined is None:\n",
    "            image_combined = image_filtered\n",
    "        else:\n",
    "            image_combined = cv2.vconcat([image_combined, image_filtered])\n",
    "    print()\n",
    "    figure(figsize=(32, 16), dpi=80)\n",
    "    plt.imshow(cv2.cvtColor(image_combined, cv2.COLOR_GRAY2RGB))\n",
    "    plt.xticks([]),plt.yticks([])\n",
    "    plt.show()"
   ],
   "metadata": {
    "collapsed": false,
    "pycharm": {
     "name": "#%%\n",
     "is_executing": false
    }
   }
  },
  {
   "cell_type": "markdown",
   "source": [
    "### 3.3 Ранговый фильтр"
   ],
   "metadata": {
    "collapsed": false,
    "pycharm": {
     "name": "#%% md\n",
     "is_executing": false
    }
   }
  },
  {
   "cell_type": "code",
   "execution_count": 2308,
   "outputs": [
    {
     "name": "stdout",
     "text": [
      "rank = 0\n[[1. 1. 1. 1. 1.]\n [1. 1. 1. 1. 1.]\n [1. 1. 1. 1. 1.]\n [1. 1. 1. 1. 1.]\n [1. 1. 1. 1. 1.]]\n"
     ],
     "output_type": "stream"
    }
   ],
   "source": [
    "rank = -25\n",
    "kernel = np.ones((5,5),np.float64)\n",
    "print(f\"rank = {rank + 25}\")\n",
    "print(kernel)\n",
    "if use_graph:\n",
    "    image_combined = None\n",
    "    for image_name in images_noised.keys():\n",
    "        print(image_name, end=', ')\n",
    "        image_filtered = scipy.ndimage.rank_filter(images_noised[image_name], footprint=kernel, rank=rank)\n",
    "        image_filtered = cv2.hconcat([images_noised[image_name], image_filtered])\n",
    "        if image_combined is None:\n",
    "            image_combined = image_filtered\n",
    "        else:\n",
    "            image_combined = cv2.vconcat([image_combined, image_filtered])\n",
    "    print()\n",
    "    figure(figsize=(32, 16), dpi=80)\n",
    "    plt.imshow(cv2.cvtColor(image_combined, cv2.COLOR_GRAY2RGB))\n",
    "    plt.xticks([]),plt.yticks([])\n",
    "    plt.show()"
   ],
   "metadata": {
    "collapsed": false,
    "pycharm": {
     "name": "#%%\n",
     "is_executing": false
    }
   }
  },
  {
   "cell_type": "code",
   "execution_count": 2309,
   "outputs": [
    {
     "name": "stdout",
     "text": [
      "rank = 7\n[[1. 1. 1. 1. 1.]\n [1. 1. 1. 1. 1.]\n [1. 1. 1. 1. 1.]\n [1. 1. 1. 1. 1.]\n [1. 1. 1. 1. 1.]]\n"
     ],
     "output_type": "stream"
    }
   ],
   "source": [
    "rank = -18\n",
    "kernel = np.ones((5,5),np.float64)\n",
    "print(f\"rank = {rank + 25}\")\n",
    "print(kernel)\n",
    "if use_graph:\n",
    "    image_combined = None\n",
    "    for image_name in images_noised.keys():\n",
    "        print(image_name, end=', ')\n",
    "        image_filtered = scipy.ndimage.rank_filter(images_noised[image_name], footprint=kernel, rank=rank)\n",
    "        image_filtered = cv2.hconcat([images_noised[image_name], image_filtered])\n",
    "        if image_combined is None:\n",
    "            image_combined = image_filtered\n",
    "        else:\n",
    "            image_combined = cv2.vconcat([image_combined, image_filtered])\n",
    "    print()\n",
    "    figure(figsize=(32, 16), dpi=80)\n",
    "    plt.imshow(cv2.cvtColor(image_combined, cv2.COLOR_GRAY2RGB))\n",
    "    plt.xticks([]),plt.yticks([])\n",
    "    plt.show()"
   ],
   "metadata": {
    "collapsed": false,
    "pycharm": {
     "name": "#%%\n",
     "is_executing": false
    }
   }
  },
  {
   "cell_type": "code",
   "execution_count": 2310,
   "outputs": [
    {
     "name": "stdout",
     "text": [
      "rank = 13\n[[1. 1. 1. 1. 1.]\n [1. 1. 1. 1. 1.]\n [1. 1. 1. 1. 1.]\n [1. 1. 1. 1. 1.]\n [1. 1. 1. 1. 1.]]\n"
     ],
     "output_type": "stream"
    }
   ],
   "source": [
    "rank = -12\n",
    "kernel = np.ones((5,5),np.float64)\n",
    "print(f\"rank = {rank + 25}\")\n",
    "print(kernel)\n",
    "if use_graph:\n",
    "    image_combined = None\n",
    "    for image_name in images_noised.keys():\n",
    "        print(image_name, end=', ')\n",
    "        image_filtered = scipy.ndimage.rank_filter(images_noised[image_name], footprint=kernel, rank=rank)\n",
    "        image_filtered = cv2.hconcat([images_noised[image_name], image_filtered])\n",
    "        if image_combined is None:\n",
    "            image_combined = image_filtered\n",
    "        else:\n",
    "            image_combined = cv2.vconcat([image_combined, image_filtered])\n",
    "    print()\n",
    "    figure(figsize=(32, 16), dpi=80)\n",
    "    plt.imshow(cv2.cvtColor(image_combined, cv2.COLOR_GRAY2RGB))\n",
    "    plt.xticks([]),plt.yticks([])\n",
    "    plt.show()"
   ],
   "metadata": {
    "collapsed": false,
    "pycharm": {
     "name": "#%%\n",
     "is_executing": false
    }
   }
  },
  {
   "cell_type": "code",
   "execution_count": 2311,
   "outputs": [
    {
     "name": "stdout",
     "text": [
      "rank = 19\n[[1. 1. 1. 1. 1.]\n [1. 1. 1. 1. 1.]\n [1. 1. 1. 1. 1.]\n [1. 1. 1. 1. 1.]\n [1. 1. 1. 1. 1.]]\n"
     ],
     "output_type": "stream"
    }
   ],
   "source": [
    "rank = -6\n",
    "kernel = np.ones((5,5),np.float64)\n",
    "print(f\"rank = {rank + 25}\")\n",
    "print(kernel)\n",
    "if use_graph:\n",
    "    image_combined = None\n",
    "    for image_name in images_noised.keys():\n",
    "        print(image_name, end=', ')\n",
    "        image_filtered = scipy.ndimage.rank_filter(images_noised[image_name], footprint=kernel, rank=rank)\n",
    "        image_filtered = cv2.hconcat([images_noised[image_name], image_filtered])\n",
    "        if image_combined is None:\n",
    "            image_combined = image_filtered\n",
    "        else:\n",
    "            image_combined = cv2.vconcat([image_combined, image_filtered])\n",
    "    print()\n",
    "    figure(figsize=(32, 16), dpi=80)\n",
    "    plt.imshow(cv2.cvtColor(image_combined, cv2.COLOR_GRAY2RGB))\n",
    "    plt.xticks([]),plt.yticks([])\n",
    "    plt.show()"
   ],
   "metadata": {
    "collapsed": false,
    "pycharm": {
     "name": "#%%\n",
     "is_executing": false
    }
   }
  },
  {
   "cell_type": "code",
   "execution_count": 2312,
   "outputs": [
    {
     "name": "stdout",
     "text": [
      "rank = 24\n[[1. 1. 1. 1. 1.]\n [1. 1. 1. 1. 1.]\n [1. 1. 1. 1. 1.]\n [1. 1. 1. 1. 1.]\n [1. 1. 1. 1. 1.]]\n"
     ],
     "output_type": "stream"
    }
   ],
   "source": [
    "rank = -1\n",
    "kernel = np.ones((5,5),np.float64)\n",
    "print(f\"rank = {rank + 25}\")\n",
    "print(kernel)\n",
    "if use_graph:\n",
    "    image_combined = None\n",
    "    for image_name in images_noised.keys():\n",
    "        print(image_name, end=', ')\n",
    "        image_filtered = scipy.ndimage.rank_filter(images_noised[image_name], footprint=kernel, rank=rank)\n",
    "        image_filtered = cv2.hconcat([images_noised[image_name], image_filtered])\n",
    "        if image_combined is None:\n",
    "            image_combined = image_filtered\n",
    "        else:\n",
    "            image_combined = cv2.vconcat([image_combined, image_filtered])\n",
    "    print()\n",
    "    figure(figsize=(32, 16), dpi=80)\n",
    "    plt.imshow(cv2.cvtColor(image_combined, cv2.COLOR_GRAY2RGB))\n",
    "    plt.xticks([]),plt.yticks([])\n",
    "    plt.show()"
   ],
   "metadata": {
    "collapsed": false,
    "pycharm": {
     "name": "#%%\n",
     "is_executing": false
    }
   }
  },
  {
   "cell_type": "markdown",
   "source": [
    "### 3.4 Фильтр Винера\n",
    "\n",
    "Также добавлено адаптивное автоисправление гистограммы CLAHE"
   ],
   "metadata": {
    "collapsed": false
   }
  },
  {
   "cell_type": "code",
   "execution_count": 2313,
   "outputs": [
    {
     "name": "stdout",
     "text": [
      "[[1. 1. 1. 1. 1. 1. 1. 1. 1. 1. 1. 1. 1. 1. 1.]\n [1. 1. 1. 1. 1. 1. 1. 1. 1. 1. 1. 1. 1. 1. 1.]\n [1. 1. 1. 1. 1. 1. 1. 1. 1. 1. 1. 1. 1. 1. 1.]\n [1. 1. 1. 1. 1. 1. 1. 1. 1. 1. 1. 1. 1. 1. 1.]\n [1. 1. 1. 1. 1. 1. 1. 1. 1. 1. 1. 1. 1. 1. 1.]\n [1. 1. 1. 1. 1. 1. 1. 1. 1. 1. 1. 1. 1. 1. 1.]\n [1. 1. 1. 1. 1. 1. 1. 1. 1. 1. 1. 1. 1. 1. 1.]\n [1. 1. 1. 1. 1. 1. 1. 1. 1. 1. 1. 1. 1. 1. 1.]\n [1. 1. 1. 1. 1. 1. 1. 1. 1. 1. 1. 1. 1. 1. 1.]\n [1. 1. 1. 1. 1. 1. 1. 1. 1. 1. 1. 1. 1. 1. 1.]\n [1. 1. 1. 1. 1. 1. 1. 1. 1. 1. 1. 1. 1. 1. 1.]\n [1. 1. 1. 1. 1. 1. 1. 1. 1. 1. 1. 1. 1. 1. 1.]\n [1. 1. 1. 1. 1. 1. 1. 1. 1. 1. 1. 1. 1. 1. 1.]\n [1. 1. 1. 1. 1. 1. 1. 1. 1. 1. 1. 1. 1. 1. 1.]\n [1. 1. 1. 1. 1. 1. 1. 1. 1. 1. 1. 1. 1. 1. 1.]]\n"
     ],
     "output_type": "stream"
    }
   ],
   "source": [
    "kernel = np.ones((15,15),np.float64)\n",
    "print(kernel)\n",
    "if use_graph:\n",
    "    image_combined = None\n",
    "    for image_name in images_noised.keys():\n",
    "        print(image_name, end=', ')\n",
    "        image_filtered = skimage.img_as_float64(images_noised[image_name])\n",
    "        image_filtered = scipy.signal.convolve2d(image_filtered, kernel, 'same')\n",
    "        image_filtered = skimage.restoration.wiener(image_filtered, kernel, 5.1e4)\n",
    "        image_filtered = skimage.img_as_ubyte(image_filtered)\n",
    "        clahe = cv2.createCLAHE(clipLimit=1.0, tileGridSize=(8,8))\n",
    "        image_filtered = clahe.apply(image_filtered)\n",
    "        image_filtered = cv2.hconcat([images_noised[image_name], image_filtered])\n",
    "        if image_combined is None:\n",
    "            image_combined = image_filtered\n",
    "        else:\n",
    "            image_combined = cv2.vconcat([image_combined, image_filtered])\n",
    "    print()\n",
    "    figure(figsize=(32, 16), dpi=80)\n",
    "    plt.imshow(cv2.cvtColor(image_combined, cv2.COLOR_GRAY2RGB))\n",
    "    plt.xticks([]),plt.yticks([])\n",
    "    plt.show()"
   ],
   "metadata": {
    "collapsed": false,
    "pycharm": {
     "name": "#%%\n",
     "is_executing": false
    }
   }
  },
  {
   "cell_type": "code",
   "execution_count": 2314,
   "outputs": [
    {
     "name": "stdout",
     "text": [
      "[[1. 1. 1. 1. 1. 1. 1. 1. 1. 1. 1. 1. 1. 1. 1.]\n [1. 1. 1. 1. 1. 1. 1. 1. 1. 1. 1. 1. 1. 1. 1.]\n [1. 1. 1. 1. 1. 1. 1. 1. 1. 1. 1. 1. 1. 1. 1.]\n [1. 1. 1. 1. 1. 1. 1. 1. 1. 1. 1. 1. 1. 1. 1.]\n [1. 1. 1. 1. 1. 1. 1. 1. 1. 1. 1. 1. 1. 1. 1.]\n [1. 1. 1. 1. 1. 1. 1. 1. 1. 1. 1. 1. 1. 1. 1.]\n [1. 1. 1. 1. 1. 1. 1. 1. 1. 1. 1. 1. 1. 1. 1.]\n [1. 1. 1. 1. 1. 1. 1. 1. 1. 1. 1. 1. 1. 1. 1.]\n [1. 1. 1. 1. 1. 1. 1. 1. 1. 1. 1. 1. 1. 1. 1.]\n [1. 1. 1. 1. 1. 1. 1. 1. 1. 1. 1. 1. 1. 1. 1.]\n [1. 1. 1. 1. 1. 1. 1. 1. 1. 1. 1. 1. 1. 1. 1.]\n [1. 1. 1. 1. 1. 1. 1. 1. 1. 1. 1. 1. 1. 1. 1.]\n [1. 1. 1. 1. 1. 1. 1. 1. 1. 1. 1. 1. 1. 1. 1.]\n [1. 1. 1. 1. 1. 1. 1. 1. 1. 1. 1. 1. 1. 1. 1.]\n [1. 1. 1. 1. 1. 1. 1. 1. 1. 1. 1. 1. 1. 1. 1.]]\n"
     ],
     "output_type": "stream"
    }
   ],
   "source": [
    "kernel = np.ones((15,15),np.float64)\n",
    "print(kernel)\n",
    "if use_graph:\n",
    "    image_filtered = skimage.img_as_float64(image_noised_all)\n",
    "    image_filtered = scipy.signal.convolve2d(image_filtered, kernel, 'same')\n",
    "    image_filtered = skimage.restoration.wiener(image_filtered, kernel, 1.3e6)\n",
    "    image_filtered = skimage.img_as_ubyte(image_filtered)\n",
    "    clahe = cv2.createCLAHE(clipLimit=1.0, tileGridSize=(8,8))\n",
    "    image_filtered = clahe.apply(image_filtered)\n",
    "    image_filtered = cv2.hconcat([image_noised_all, image_filtered])\n",
    "    figure(figsize=(32, 16), dpi=80)\n",
    "    plt.imshow(cv2.cvtColor(image_filtered, cv2.COLOR_GRAY2RGB))\n",
    "    plt.xticks([]),plt.yticks([])\n",
    "    plt.show()"
   ],
   "metadata": {
    "collapsed": false,
    "pycharm": {
     "name": "#%%\n",
     "is_executing": false
    }
   }
  }
 ],
 "metadata": {
  "kernelspec": {
   "display_name": "Python 3",
   "language": "python",
   "name": "python3"
  },
  "language_info": {
   "codemirror_mode": {
    "name": "ipython",
    "version": 3
   },
   "file_extension": ".py",
   "mimetype": "text/x-python",
   "name": "python",
   "nbconvert_exporter": "python",
   "pygments_lexer": "ipython3",
   "version": "3.7.9"
  },
  "pycharm": {
   "stem_cell": {
    "cell_type": "raw",
    "source": [],
    "metadata": {
     "collapsed": false
    }
   }
  }
 },
 "nbformat": 4,
 "nbformat_minor": 1
}